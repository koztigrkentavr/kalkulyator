{
  "nbformat": 4,
  "nbformat_minor": 0,
  "metadata": {
    "colab": {
      "provenance": [],
      "include_colab_link": true
    },
    "kernelspec": {
      "name": "python3",
      "display_name": "Python 3"
    },
    "language_info": {
      "name": "python"
    }
  },
  "cells": [
    {
      "cell_type": "markdown",
      "metadata": {
        "id": "view-in-github",
        "colab_type": "text"
      },
      "source": [
        "<a href=\"https://colab.research.google.com/github/koztigrkentavr/kalkulyator/blob/main/NumpyAssign_2.ipynb\" target=\"_parent\"><img src=\"https://colab.research.google.com/assets/colab-badge.svg\" alt=\"Open In Colab\"/></a>"
      ]
    },
    {
      "cell_type": "markdown",
      "source": [
        "# ![Imgur](https://i.imgur.com/5pXzCIu.png)\n",
        "\n",
        "# **DATA SCIENCE VA SUN'IY INTELLEKT PRAKTIKUM**\n",
        "\n",
        "## Ma'lumotlar tahlili. Numpy kutubxonasi.\n",
        "\n",
        "# **2-AMALIY VAZIFA**\n",
        "\n",
        "## N-o'lchamli massivlarga ishov berish"
      ],
      "metadata": {
        "id": "hM7RtlAGm4aO"
      }
    },
    {
      "cell_type": "code",
      "execution_count": null,
      "metadata": {
        "id": "-7ik1fFSmsZc"
      },
      "outputs": [],
      "source": [
        "# Numpy kutubxonasini chaqirib olish\n",
        "import numpy as np"
      ]
    },
    {
      "cell_type": "markdown",
      "source": [
        "### Masala(1): 2-o'lchamli massiv yaratish\n",
        "\n",
        "**Masala sharti :** Elementlari 0 dan 9 gacha (9 ning o'zi massiv elementiga kirmaydi), qadami esa 1 ga teng bo'lgan (3, 3) o'lchamli massiv yaratuvchi funksiyani davom ettiring.  \n",
        "\n",
        "**Yordam :**  `arange`dan foydalanish ishni osonlashtiradi\n"
      ],
      "metadata": {
        "id": "hQT_temqnMSX"
      }
    },
    {
      "cell_type": "code",
      "source": [
        "def nd_array():\n",
        "  return np.arange(9).reshape(3,3)\n",
        "print(nd_array())"
      ],
      "metadata": {
        "id": "DN8F8hFSnLpj",
        "colab": {
          "base_uri": "https://localhost:8080/"
        },
        "outputId": "b8a45c42-c04a-4697-acf4-88b064eb88a3"
      },
      "execution_count": 36,
      "outputs": [
        {
          "output_type": "stream",
          "name": "stdout",
          "text": [
            "[[0 1 2]\n",
            " [3 4 5]\n",
            " [6 7 8]]\n"
          ]
        }
      ]
    },
    {
      "cell_type": "code",
      "source": [],
      "metadata": {
        "id": "ACp3pOavlBTM"
      },
      "execution_count": null,
      "outputs": []
    },
    {
      "cell_type": "markdown",
      "source": [
        "### Yuqoridagi yozgan funksiyangizni tekshirish uchun, quyidagi cellni yuriting."
      ],
      "metadata": {
        "id": "uD-JFFzZq-ph"
      }
    },
    {
      "cell_type": "markdown",
      "source": [
        "___"
      ],
      "metadata": {
        "id": "r3P1nO9GrxVb"
      }
    },
    {
      "cell_type": "markdown",
      "source": [
        "###  Masala(2): Indeks yordamida 2-o'lchamli massivlardan elementlarni  kesib olish\n",
        "**Masala :** Yuqorida yaratilgan massivning elementlari 6 va 7 ga teng bo'lgan qismini kesib olish funksiyasini davom ettiring.\n",
        "\n",
        "**Yordam :** 6 va 7 turgan indekslarni aniqlab olib, shu indekslar yordamida kesib oling. **Natija:** array([6, 7]) ko'rinishida bo'lishi kerak."
      ],
      "metadata": {
        "id": "M2NZoO65rwji"
      }
    },
    {
      "cell_type": "code",
      "source": [
        "import numpy as np\n",
        "def nd_array():\n",
        "    return np.arange(9).reshape(3,3)\n",
        "\n",
        "\n",
        "def sliced_array_2d():\n",
        "    array = nd_array()\n",
        "    return array.flatten()[6:8]\n",
        "print(nd_array())\n",
        "print(sliced_array_2d())"
      ],
      "metadata": {
        "id": "45Tw2aNeqxRM",
        "colab": {
          "base_uri": "https://localhost:8080/"
        },
        "outputId": "883db2ea-1f3a-4f96-a00c-e4341fe9f52b"
      },
      "execution_count": 10,
      "outputs": [
        {
          "output_type": "stream",
          "name": "stdout",
          "text": [
            "[[0 1 2]\n",
            " [3 4 5]\n",
            " [6 7 8]]\n",
            "[6 7]\n"
          ]
        }
      ]
    },
    {
      "cell_type": "markdown",
      "source": [
        "### Yuqoridagi yozgan funksiyangizni tekshirish uchun, quyidagi cellni yuriting."
      ],
      "metadata": {
        "id": "87LBvb1fr9kT"
      }
    },
    {
      "cell_type": "markdown",
      "source": [
        "___"
      ],
      "metadata": {
        "id": "Msz8_E_gtEef"
      }
    },
    {
      "cell_type": "markdown",
      "source": [
        "###  Masala(3): Indeks yordamida 3-o'lchamli massivdan elementlarni kesib olish\n",
        "\n",
        "**Masala :**  3-o'lchamli massivni quyidagi listdan yarating, hamda 12, 13, 15, va 16  elementlarini kesib oluvchi funksiyani davom ettiring.  \n",
        "\n",
        "                  [[[ 0,  1,  2],\n",
        "                    [ 3,  4,  5],\n",
        "                    [ 6,  7,  8]],\n",
        "\n",
        "                   [[ 9, 10, 11],\n",
        "                    [12, 13, 14],\n",
        "                    [15, 16, 17]],\n",
        "\n",
        "                   [[18, 19, 20],\n",
        "                    [21, 22, 23],\n",
        "                    [24, 25, 26]]]\n",
        "\n",
        "**Yordam :** Avval massivni ikki o'lchamli massivga keltirib, keyin kesib olishni amalga oshiring.\n",
        "\n",
        "\n",
        "**Natija:**  \n",
        "\n",
        "             array([[12, 13],\n",
        "                    [15, 16]])\n",
        "ko'rinishida bo'lishi kerak."
      ],
      "metadata": {
        "id": "lX5Y2HQ1taOa"
      }
    },
    {
      "cell_type": "code",
      "source": [
        "import numpy as np\n",
        "arr = np.array([\n",
        "      [[0, 1, 2],\n",
        "       [3, 4, 5],\n",
        "       [6, 7, 8]],\n",
        "      [[9,10,11],\n",
        "       [12,13,14],\n",
        "       [15,16,17]],\n",
        "      [[18,19,20],\n",
        "       [21,22,23],\n",
        "       [24,25,26]]\n",
        "])\n",
        "def sliced_array_3d():\n",
        "  return arr[1, 1:3,0:2]\n",
        "print(sliced_array_3d())\n"
      ],
      "metadata": {
        "id": "Ogntt8ivs7rY",
        "colab": {
          "base_uri": "https://localhost:8080/"
        },
        "outputId": "105cb4ae-69c0-4b84-8ae8-b176d253b94a"
      },
      "execution_count": 26,
      "outputs": [
        {
          "output_type": "stream",
          "name": "stdout",
          "text": [
            "[[12 13]\n",
            " [15 16]]\n"
          ]
        }
      ]
    },
    {
      "cell_type": "markdown",
      "source": [
        "___"
      ],
      "metadata": {
        "id": "LFSATVx6voGP"
      }
    },
    {
      "cell_type": "markdown",
      "source": [
        "###  Masala(4): Boolean indeks yordamida 2-o'lchamli massivlardan elementlarni  kesib olish\n",
        "\n",
        "**Masala :** Bizlarda,  \n",
        "        \n",
        "        ['Hasan', 'Husan', 'Javohir', 'Elyor', 'Hasan', 'Javohir', 'Elyor']\n",
        "\n",
        "**list**dagi kishilar va ularning **ma'lumot**lari\n",
        "       \n",
        "      [[5, 6, 1, 1],\n",
        "       [9, 1, 1, 1],\n",
        "       [7, 7, 4, 2],\n",
        "       [1, 5, 1, 9],\n",
        "       [9, 9, 4, 5],\n",
        "       [7, 5, 9, 6],\n",
        "       [5, 3, 7, 4]]\n",
        "ko'rinishda keltirilgan.\n",
        "\n",
        "\n",
        "Mana shu ma'lumotlardan **Javohir** va **Elyor** ismlariga tegishli ma'lumotlarni Boolean indekslash yordamida kesib olish funksiyasini davom ettiring.\n",
        "**Yordam :** Boolean indekslash video darsligiga murojat qiling.\n",
        "**Natija:** Natija (4, 4) o'lchamli massiv ko'rinishida, hamda dastlabki ikkita qattori quyidagicha\n",
        "\n",
        "    array([[7, 7, 4, 2],\n",
        "           [1, 5, 1, 9],\n",
        "           ...\n",
        "           ...        ]])"
      ],
      "metadata": {
        "id": "FVkfhm-Tvqxx"
      }
    },
    {
      "cell_type": "code",
      "source": [
        "import numpy as np\n",
        "def boolean_slicing():\n",
        "  names = np.array(['Hasan', 'Husan', 'Javohir', 'Elyor', 'Hasan','Javohir', 'Elyor'])\n",
        "  data = np.array([[5,6,1,1],\n",
        "                   [9,1,1,1],\n",
        "                   [7,7,4,2],\n",
        "                   [1,5,1,9],\n",
        "                   [9,9,4,5],\n",
        "                   [7,5,9,6],\n",
        "                   [5,3,7,4]])\n",
        "  mask = (names == 'Javohir')| (names == 'Elyor')\n",
        "  return data[mask]\n",
        "print(boolean_slicing())\n"
      ],
      "metadata": {
        "id": "VDCIeFdtuamf",
        "colab": {
          "base_uri": "https://localhost:8080/"
        },
        "outputId": "32a93263-7fb6-4999-c25c-45036a291f9d"
      },
      "execution_count": 33,
      "outputs": [
        {
          "output_type": "stream",
          "name": "stdout",
          "text": [
            "[[7 7 4 2]\n",
            " [1 5 1 9]\n",
            " [7 5 9 6]\n",
            " [5 3 7 4]]\n"
          ]
        }
      ]
    },
    {
      "cell_type": "markdown",
      "source": [],
      "metadata": {
        "id": "DGwJREdu8mpS"
      }
    },
    {
      "cell_type": "markdown",
      "source": [
        "### Yuqoridagi yozgan funksiyangizni tekshirish uchun, quyidagi cellni yuriting."
      ],
      "metadata": {
        "id": "OkUGtgD7wD6J"
      }
    }
  ]
}