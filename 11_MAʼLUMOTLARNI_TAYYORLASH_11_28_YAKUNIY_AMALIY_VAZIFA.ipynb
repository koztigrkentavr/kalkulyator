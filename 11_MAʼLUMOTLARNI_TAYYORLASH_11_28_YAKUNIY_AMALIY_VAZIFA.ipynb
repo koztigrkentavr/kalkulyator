{
  "nbformat": 4,
  "nbformat_minor": 0,
  "metadata": {
    "colab": {
      "provenance": [],
      "include_colab_link": true
    },
    "kernelspec": {
      "name": "python3",
      "display_name": "Python 3"
    },
    "language_info": {
      "name": "python"
    }
  },
  "cells": [
    {
      "cell_type": "markdown",
      "metadata": {
        "id": "view-in-github",
        "colab_type": "text"
      },
      "source": [
        "<a href=\"https://colab.research.google.com/github/koztigrkentavr/kalkulyator/blob/main/11_MA%CA%BCLUMOTLARNI_TAYYORLASH_11_28_YAKUNIY_AMALIY_VAZIFA.ipynb\" target=\"_parent\"><img src=\"https://colab.research.google.com/assets/colab-badge.svg\" alt=\"Open In Colab\"/></a>"
      ]
    },
    {
      "cell_type": "markdown",
      "source": [
        "![Imgur](https://i.imgur.com/h4PPC71.png)\n",
        "#11-modul. Maʼlumotlarga ishlov berish. Maʼlumotlarni tayyorlash\n",
        "# 11.28. Modul boʻyicha yakuniy amaliy vazifa\n",
        "\n",
        "**Bu vazifalarni bajargach, maʼlumotlarni yuklash, tozalash, oʻzgartirish, matnlarni normalizatsiya qilish, qiymatlarni tekshirish, guruhlash va tahlil qilish kabi maʼlumotlarga ishlov berish (data processing) koʻnikmalarini egallaysiz.**"
      ],
      "metadata": {
        "id": "fVxJerRe4ATj"
      }
    },
    {
      "cell_type": "markdown",
      "source": [
        "#**Umumiy maʼlumotlar bilan ishlash**"
      ],
      "metadata": {
        "id": "HhJ8Wd1y6J-b"
      }
    },
    {
      "cell_type": "markdown",
      "source": [
        "#Dataset haqida qisqacha maʼlumot\n",
        "Restoran savdosi boʻyicha maʼlumotlar toʻplami 17 534 tranzaksiya uchun maʼlumotlarni oʻz ichiga oladi. Maʼlumotlar yetishmayotgan yoki baʼzilari toʻliq kiritilmagan boʻlishi mumkin. Maʼlumotlar toʻplamida asosiy taomlar, shirinliklar, ichimliklar kabi bir nechta toifadagi savdo tafsilotlari mavjud.\n",
        "\n",
        "\n",
        " 0.   **Unnamed 0** – indekslarni;\n",
        " 1.   **Order ID** – buyurtma IDʼsini;\n",
        " 2.   **Customer ID** – mijoz IDʼsini;\n",
        " 3.   **Category** – mahsulotlar kategoriyasini;\n",
        " 4.   **Item** – mahsulot nomini;\n",
        " 5.   **Price** – mahsulotning narxini;\n",
        " 6.   **Quantity** – qancha mahsulot sotilgani miqdorini;\n",
        " 7.   **Order Total** – umumiy narx qancha ekanini;\n",
        " 8.   **Order Date** – buyurtma berilgan sanani (vaqt);\n",
        " 9.   **Payment Method** – toʻlov usuli turini saqlaydi."
      ],
      "metadata": {
        "id": "co4J2g_1VM4C"
      }
    },
    {
      "cell_type": "markdown",
      "source": [
        "#1) Quyida berilgan datasetni yuklab olib, ustun nomlarini koʻring va ularni maʼno jihatdan tushunarli shaklga keltiring. `Unnamed: 0` ustunini tashlab yuboring!"
      ],
      "metadata": {
        "id": "AJXwX2p958mp"
      }
    },
    {
      "cell_type": "code",
      "source": [
        "import pandas as pd\n",
        "import numpy as np\n",
        "\n",
        "url = \"https://raw.githubusercontent.com/alishermutalov/praktikum-datasets/refs/heads/praktikum/restaurant_sales.csv\"\n",
        "df = pd.read_csv(url)\n",
        "df.head()"
      ],
      "metadata": {
        "id": "vP3A1De6sdlY",
        "colab": {
          "base_uri": "https://localhost:8080/",
          "height": 206
        },
        "outputId": "31329c2b-bb1b-4705-a2db-44470c0ca617"
      },
      "execution_count": 31,
      "outputs": [
        {
          "output_type": "execute_result",
          "data": {
            "text/plain": [
              "   Unnamed: 0    Order ID Customer ID     Category             Item  Price  \\\n",
              "0           0  ORD_705844    CUST_092          NaN     side salad#?    3.0   \n",
              "1           1  ORD_338528    CUST_021  Side Dishes  Mashed Potatoes    4.0   \n",
              "2           2  ORD_443849    CUST_029  Main Dishes  Grilled Chicken   15.0   \n",
              "3           3  ORD_630508    CUST_075       Drinks              NaN   -1.0   \n",
              "4           4  ORD_648269    CUST_031  Main Dishes    Pasta Alfredo   12.0   \n",
              "\n",
              "   Quantity  Order Total  Order Date  Payment Method  \n",
              "0       1.0          3.0  2023-12-21     Credit Card  \n",
              "1       3.0         12.0  2023-05-19  Digital Wallet  \n",
              "2       4.0         60.0  2023-09-27     Credit Card  \n",
              "3       2.0          5.0  2022-08-09     Credit Card  \n",
              "4       4.0         48.0  2022-05-15            Cash  "
            ],
            "text/html": [
              "\n",
              "  <div id=\"df-a56560ae-4a85-471b-952f-c0659e35ef46\" class=\"colab-df-container\">\n",
              "    <div>\n",
              "<style scoped>\n",
              "    .dataframe tbody tr th:only-of-type {\n",
              "        vertical-align: middle;\n",
              "    }\n",
              "\n",
              "    .dataframe tbody tr th {\n",
              "        vertical-align: top;\n",
              "    }\n",
              "\n",
              "    .dataframe thead th {\n",
              "        text-align: right;\n",
              "    }\n",
              "</style>\n",
              "<table border=\"1\" class=\"dataframe\">\n",
              "  <thead>\n",
              "    <tr style=\"text-align: right;\">\n",
              "      <th></th>\n",
              "      <th>Unnamed: 0</th>\n",
              "      <th>Order ID</th>\n",
              "      <th>Customer ID</th>\n",
              "      <th>Category</th>\n",
              "      <th>Item</th>\n",
              "      <th>Price</th>\n",
              "      <th>Quantity</th>\n",
              "      <th>Order Total</th>\n",
              "      <th>Order Date</th>\n",
              "      <th>Payment Method</th>\n",
              "    </tr>\n",
              "  </thead>\n",
              "  <tbody>\n",
              "    <tr>\n",
              "      <th>0</th>\n",
              "      <td>0</td>\n",
              "      <td>ORD_705844</td>\n",
              "      <td>CUST_092</td>\n",
              "      <td>NaN</td>\n",
              "      <td>side salad#?</td>\n",
              "      <td>3.0</td>\n",
              "      <td>1.0</td>\n",
              "      <td>3.0</td>\n",
              "      <td>2023-12-21</td>\n",
              "      <td>Credit Card</td>\n",
              "    </tr>\n",
              "    <tr>\n",
              "      <th>1</th>\n",
              "      <td>1</td>\n",
              "      <td>ORD_338528</td>\n",
              "      <td>CUST_021</td>\n",
              "      <td>Side Dishes</td>\n",
              "      <td>Mashed Potatoes</td>\n",
              "      <td>4.0</td>\n",
              "      <td>3.0</td>\n",
              "      <td>12.0</td>\n",
              "      <td>2023-05-19</td>\n",
              "      <td>Digital Wallet</td>\n",
              "    </tr>\n",
              "    <tr>\n",
              "      <th>2</th>\n",
              "      <td>2</td>\n",
              "      <td>ORD_443849</td>\n",
              "      <td>CUST_029</td>\n",
              "      <td>Main Dishes</td>\n",
              "      <td>Grilled Chicken</td>\n",
              "      <td>15.0</td>\n",
              "      <td>4.0</td>\n",
              "      <td>60.0</td>\n",
              "      <td>2023-09-27</td>\n",
              "      <td>Credit Card</td>\n",
              "    </tr>\n",
              "    <tr>\n",
              "      <th>3</th>\n",
              "      <td>3</td>\n",
              "      <td>ORD_630508</td>\n",
              "      <td>CUST_075</td>\n",
              "      <td>Drinks</td>\n",
              "      <td>NaN</td>\n",
              "      <td>-1.0</td>\n",
              "      <td>2.0</td>\n",
              "      <td>5.0</td>\n",
              "      <td>2022-08-09</td>\n",
              "      <td>Credit Card</td>\n",
              "    </tr>\n",
              "    <tr>\n",
              "      <th>4</th>\n",
              "      <td>4</td>\n",
              "      <td>ORD_648269</td>\n",
              "      <td>CUST_031</td>\n",
              "      <td>Main Dishes</td>\n",
              "      <td>Pasta Alfredo</td>\n",
              "      <td>12.0</td>\n",
              "      <td>4.0</td>\n",
              "      <td>48.0</td>\n",
              "      <td>2022-05-15</td>\n",
              "      <td>Cash</td>\n",
              "    </tr>\n",
              "  </tbody>\n",
              "</table>\n",
              "</div>\n",
              "    <div class=\"colab-df-buttons\">\n",
              "\n",
              "  <div class=\"colab-df-container\">\n",
              "    <button class=\"colab-df-convert\" onclick=\"convertToInteractive('df-a56560ae-4a85-471b-952f-c0659e35ef46')\"\n",
              "            title=\"Convert this dataframe to an interactive table.\"\n",
              "            style=\"display:none;\">\n",
              "\n",
              "  <svg xmlns=\"http://www.w3.org/2000/svg\" height=\"24px\" viewBox=\"0 -960 960 960\">\n",
              "    <path d=\"M120-120v-720h720v720H120Zm60-500h600v-160H180v160Zm220 220h160v-160H400v160Zm0 220h160v-160H400v160ZM180-400h160v-160H180v160Zm440 0h160v-160H620v160ZM180-180h160v-160H180v160Zm440 0h160v-160H620v160Z\"/>\n",
              "  </svg>\n",
              "    </button>\n",
              "\n",
              "  <style>\n",
              "    .colab-df-container {\n",
              "      display:flex;\n",
              "      gap: 12px;\n",
              "    }\n",
              "\n",
              "    .colab-df-convert {\n",
              "      background-color: #E8F0FE;\n",
              "      border: none;\n",
              "      border-radius: 50%;\n",
              "      cursor: pointer;\n",
              "      display: none;\n",
              "      fill: #1967D2;\n",
              "      height: 32px;\n",
              "      padding: 0 0 0 0;\n",
              "      width: 32px;\n",
              "    }\n",
              "\n",
              "    .colab-df-convert:hover {\n",
              "      background-color: #E2EBFA;\n",
              "      box-shadow: 0px 1px 2px rgba(60, 64, 67, 0.3), 0px 1px 3px 1px rgba(60, 64, 67, 0.15);\n",
              "      fill: #174EA6;\n",
              "    }\n",
              "\n",
              "    .colab-df-buttons div {\n",
              "      margin-bottom: 4px;\n",
              "    }\n",
              "\n",
              "    [theme=dark] .colab-df-convert {\n",
              "      background-color: #3B4455;\n",
              "      fill: #D2E3FC;\n",
              "    }\n",
              "\n",
              "    [theme=dark] .colab-df-convert:hover {\n",
              "      background-color: #434B5C;\n",
              "      box-shadow: 0px 1px 3px 1px rgba(0, 0, 0, 0.15);\n",
              "      filter: drop-shadow(0px 1px 2px rgba(0, 0, 0, 0.3));\n",
              "      fill: #FFFFFF;\n",
              "    }\n",
              "  </style>\n",
              "\n",
              "    <script>\n",
              "      const buttonEl =\n",
              "        document.querySelector('#df-a56560ae-4a85-471b-952f-c0659e35ef46 button.colab-df-convert');\n",
              "      buttonEl.style.display =\n",
              "        google.colab.kernel.accessAllowed ? 'block' : 'none';\n",
              "\n",
              "      async function convertToInteractive(key) {\n",
              "        const element = document.querySelector('#df-a56560ae-4a85-471b-952f-c0659e35ef46');\n",
              "        const dataTable =\n",
              "          await google.colab.kernel.invokeFunction('convertToInteractive',\n",
              "                                                    [key], {});\n",
              "        if (!dataTable) return;\n",
              "\n",
              "        const docLinkHtml = 'Like what you see? Visit the ' +\n",
              "          '<a target=\"_blank\" href=https://colab.research.google.com/notebooks/data_table.ipynb>data table notebook</a>'\n",
              "          + ' to learn more about interactive tables.';\n",
              "        element.innerHTML = '';\n",
              "        dataTable['output_type'] = 'display_data';\n",
              "        await google.colab.output.renderOutput(dataTable, element);\n",
              "        const docLink = document.createElement('div');\n",
              "        docLink.innerHTML = docLinkHtml;\n",
              "        element.appendChild(docLink);\n",
              "      }\n",
              "    </script>\n",
              "  </div>\n",
              "\n",
              "\n",
              "    <div id=\"df-eaf36f7c-af2f-4638-8bfa-372269ffa0d1\">\n",
              "      <button class=\"colab-df-quickchart\" onclick=\"quickchart('df-eaf36f7c-af2f-4638-8bfa-372269ffa0d1')\"\n",
              "                title=\"Suggest charts\"\n",
              "                style=\"display:none;\">\n",
              "\n",
              "<svg xmlns=\"http://www.w3.org/2000/svg\" height=\"24px\"viewBox=\"0 0 24 24\"\n",
              "     width=\"24px\">\n",
              "    <g>\n",
              "        <path d=\"M19 3H5c-1.1 0-2 .9-2 2v14c0 1.1.9 2 2 2h14c1.1 0 2-.9 2-2V5c0-1.1-.9-2-2-2zM9 17H7v-7h2v7zm4 0h-2V7h2v10zm4 0h-2v-4h2v4z\"/>\n",
              "    </g>\n",
              "</svg>\n",
              "      </button>\n",
              "\n",
              "<style>\n",
              "  .colab-df-quickchart {\n",
              "      --bg-color: #E8F0FE;\n",
              "      --fill-color: #1967D2;\n",
              "      --hover-bg-color: #E2EBFA;\n",
              "      --hover-fill-color: #174EA6;\n",
              "      --disabled-fill-color: #AAA;\n",
              "      --disabled-bg-color: #DDD;\n",
              "  }\n",
              "\n",
              "  [theme=dark] .colab-df-quickchart {\n",
              "      --bg-color: #3B4455;\n",
              "      --fill-color: #D2E3FC;\n",
              "      --hover-bg-color: #434B5C;\n",
              "      --hover-fill-color: #FFFFFF;\n",
              "      --disabled-bg-color: #3B4455;\n",
              "      --disabled-fill-color: #666;\n",
              "  }\n",
              "\n",
              "  .colab-df-quickchart {\n",
              "    background-color: var(--bg-color);\n",
              "    border: none;\n",
              "    border-radius: 50%;\n",
              "    cursor: pointer;\n",
              "    display: none;\n",
              "    fill: var(--fill-color);\n",
              "    height: 32px;\n",
              "    padding: 0;\n",
              "    width: 32px;\n",
              "  }\n",
              "\n",
              "  .colab-df-quickchart:hover {\n",
              "    background-color: var(--hover-bg-color);\n",
              "    box-shadow: 0 1px 2px rgba(60, 64, 67, 0.3), 0 1px 3px 1px rgba(60, 64, 67, 0.15);\n",
              "    fill: var(--button-hover-fill-color);\n",
              "  }\n",
              "\n",
              "  .colab-df-quickchart-complete:disabled,\n",
              "  .colab-df-quickchart-complete:disabled:hover {\n",
              "    background-color: var(--disabled-bg-color);\n",
              "    fill: var(--disabled-fill-color);\n",
              "    box-shadow: none;\n",
              "  }\n",
              "\n",
              "  .colab-df-spinner {\n",
              "    border: 2px solid var(--fill-color);\n",
              "    border-color: transparent;\n",
              "    border-bottom-color: var(--fill-color);\n",
              "    animation:\n",
              "      spin 1s steps(1) infinite;\n",
              "  }\n",
              "\n",
              "  @keyframes spin {\n",
              "    0% {\n",
              "      border-color: transparent;\n",
              "      border-bottom-color: var(--fill-color);\n",
              "      border-left-color: var(--fill-color);\n",
              "    }\n",
              "    20% {\n",
              "      border-color: transparent;\n",
              "      border-left-color: var(--fill-color);\n",
              "      border-top-color: var(--fill-color);\n",
              "    }\n",
              "    30% {\n",
              "      border-color: transparent;\n",
              "      border-left-color: var(--fill-color);\n",
              "      border-top-color: var(--fill-color);\n",
              "      border-right-color: var(--fill-color);\n",
              "    }\n",
              "    40% {\n",
              "      border-color: transparent;\n",
              "      border-right-color: var(--fill-color);\n",
              "      border-top-color: var(--fill-color);\n",
              "    }\n",
              "    60% {\n",
              "      border-color: transparent;\n",
              "      border-right-color: var(--fill-color);\n",
              "    }\n",
              "    80% {\n",
              "      border-color: transparent;\n",
              "      border-right-color: var(--fill-color);\n",
              "      border-bottom-color: var(--fill-color);\n",
              "    }\n",
              "    90% {\n",
              "      border-color: transparent;\n",
              "      border-bottom-color: var(--fill-color);\n",
              "    }\n",
              "  }\n",
              "</style>\n",
              "\n",
              "      <script>\n",
              "        async function quickchart(key) {\n",
              "          const quickchartButtonEl =\n",
              "            document.querySelector('#' + key + ' button');\n",
              "          quickchartButtonEl.disabled = true;  // To prevent multiple clicks.\n",
              "          quickchartButtonEl.classList.add('colab-df-spinner');\n",
              "          try {\n",
              "            const charts = await google.colab.kernel.invokeFunction(\n",
              "                'suggestCharts', [key], {});\n",
              "          } catch (error) {\n",
              "            console.error('Error during call to suggestCharts:', error);\n",
              "          }\n",
              "          quickchartButtonEl.classList.remove('colab-df-spinner');\n",
              "          quickchartButtonEl.classList.add('colab-df-quickchart-complete');\n",
              "        }\n",
              "        (() => {\n",
              "          let quickchartButtonEl =\n",
              "            document.querySelector('#df-eaf36f7c-af2f-4638-8bfa-372269ffa0d1 button');\n",
              "          quickchartButtonEl.style.display =\n",
              "            google.colab.kernel.accessAllowed ? 'block' : 'none';\n",
              "        })();\n",
              "      </script>\n",
              "    </div>\n",
              "\n",
              "    </div>\n",
              "  </div>\n"
            ],
            "application/vnd.google.colaboratory.intrinsic+json": {
              "type": "dataframe",
              "variable_name": "df",
              "summary": "{\n  \"name\": \"df\",\n  \"rows\": 17534,\n  \"fields\": [\n    {\n      \"column\": \"Unnamed: 0\",\n      \"properties\": {\n        \"dtype\": \"number\",\n        \"std\": 5061,\n        \"min\": 0,\n        \"max\": 17533,\n        \"num_unique_values\": 17534,\n        \"samples\": [\n          7632,\n          1554,\n          5721\n        ],\n        \"semantic_type\": \"\",\n        \"description\": \"\"\n      }\n    },\n    {\n      \"column\": \"Order ID\",\n      \"properties\": {\n        \"dtype\": \"string\",\n        \"num_unique_values\": 17534,\n        \"samples\": [\n          \"ORD_841857\",\n          \"ORD_169290\",\n          \"ORD_173704\"\n        ],\n        \"semantic_type\": \"\",\n        \"description\": \"\"\n      }\n    },\n    {\n      \"column\": \"Customer ID\",\n      \"properties\": {\n        \"dtype\": \"category\",\n        \"num_unique_values\": 100,\n        \"samples\": [\n          \"CUST_022\",\n          \"CUST_001\",\n          \"CUST_019\"\n        ],\n        \"semantic_type\": \"\",\n        \"description\": \"\"\n      }\n    },\n    {\n      \"column\": \"Category\",\n      \"properties\": {\n        \"dtype\": \"category\",\n        \"num_unique_values\": 5,\n        \"samples\": [\n          \"Main Dishes\",\n          \"Starters\",\n          \"Drinks\"\n        ],\n        \"semantic_type\": \"\",\n        \"description\": \"\"\n      }\n    },\n    {\n      \"column\": \"Item\",\n      \"properties\": {\n        \"dtype\": \"category\",\n        \"num_unique_values\": 176,\n        \"samples\": [\n          \"Fruit Salad\",\n          \"FRUIT SALAD\",\n          \"ORANGE JUICE?\"\n        ],\n        \"semantic_type\": \"\",\n        \"description\": \"\"\n      }\n    },\n    {\n      \"column\": \"Price\",\n      \"properties\": {\n        \"dtype\": \"number\",\n        \"std\": 4.993781695720307,\n        \"min\": -1.0,\n        \"max\": 20.0,\n        \"num_unique_values\": 15,\n        \"samples\": [\n          2.5,\n          8.0,\n          3.0\n        ],\n        \"semantic_type\": \"\",\n        \"description\": \"\"\n      }\n    },\n    {\n      \"column\": \"Quantity\",\n      \"properties\": {\n        \"dtype\": \"number\",\n        \"std\": 1.414597513630417,\n        \"min\": 1.0,\n        \"max\": 5.0,\n        \"num_unique_values\": 5,\n        \"samples\": [\n          3.0,\n          5.0,\n          4.0\n        ],\n        \"semantic_type\": \"\",\n        \"description\": \"\"\n      }\n    },\n    {\n      \"column\": \"Order Total\",\n      \"properties\": {\n        \"dtype\": \"number\",\n        \"std\": 18.732548950059424,\n        \"min\": 1.0,\n        \"max\": 100.0,\n        \"num_unique_values\": 41,\n        \"samples\": [\n          16.0,\n          30.0,\n          70.0\n        ],\n        \"semantic_type\": \"\",\n        \"description\": \"\"\n      }\n    },\n    {\n      \"column\": \"Order Date\",\n      \"properties\": {\n        \"dtype\": \"object\",\n        \"num_unique_values\": 730,\n        \"samples\": [\n          \"2023-10-02\",\n          \"2022-06-13\",\n          \"2022-04-20\"\n        ],\n        \"semantic_type\": \"\",\n        \"description\": \"\"\n      }\n    },\n    {\n      \"column\": \"Payment Method\",\n      \"properties\": {\n        \"dtype\": \"category\",\n        \"num_unique_values\": 3,\n        \"samples\": [\n          \"Credit Card\",\n          \"Digital Wallet\",\n          \"Cash\"\n        ],\n        \"semantic_type\": \"\",\n        \"description\": \"\"\n      }\n    }\n  ]\n}"
            }
          },
          "metadata": {},
          "execution_count": 31
        }
      ]
    },
    {
      "cell_type": "code",
      "source": [
        "#javobni shu yerda yozing\n",
        "# Unnamed :0 ustunini tashlab yuborish\n",
        "df.drop(columns=['Unnamed: 0'], inplace=True)"
      ],
      "metadata": {
        "id": "Lt37epg8YTR1"
      },
      "execution_count": 32,
      "outputs": []
    },
    {
      "cell_type": "code",
      "source": [
        "#Ustun nomlarini tekshirish\n",
        "print(df.columns)"
      ],
      "metadata": {
        "colab": {
          "base_uri": "https://localhost:8080/"
        },
        "id": "RgydoiWDQkVT",
        "outputId": "51643735-a1c1-4ef7-ea2f-383ba59529bd"
      },
      "execution_count": 33,
      "outputs": [
        {
          "output_type": "stream",
          "name": "stdout",
          "text": [
            "Index(['Order ID', 'Customer ID', 'Category', 'Item', 'Price', 'Quantity',\n",
            "       'Order Total', 'Order Date', 'Payment Method'],\n",
            "      dtype='object')\n"
          ]
        }
      ]
    },
    {
      "cell_type": "code",
      "source": [
        "#Ustun nomlarini o'zgartirish\n",
        "df.rename(columns={\n",
        "    'Order ID': 'order_id',\n",
        "    'Customer ID': 'customer_id',\n",
        "    'Category': 'category',\n",
        "    'Item': 'item',\n",
        "    'Price': 'price',\n",
        "    'Quantity': 'quantity',\n",
        "    'Order Total': 'order_total',\n",
        "    'Order Date': 'order_date',\n",
        "    'Payment Method': 'payment_method'\n",
        "}, inplace=True)\n",
        "df.head()"
      ],
      "metadata": {
        "colab": {
          "base_uri": "https://localhost:8080/",
          "height": 206
        },
        "id": "bNljYYsBQx4Q",
        "outputId": "92ed04e3-e529-427a-f720-5754aa21aafc"
      },
      "execution_count": 34,
      "outputs": [
        {
          "output_type": "execute_result",
          "data": {
            "text/plain": [
              "     order_id customer_id     category             item  price  quantity  \\\n",
              "0  ORD_705844    CUST_092          NaN     side salad#?    3.0       1.0   \n",
              "1  ORD_338528    CUST_021  Side Dishes  Mashed Potatoes    4.0       3.0   \n",
              "2  ORD_443849    CUST_029  Main Dishes  Grilled Chicken   15.0       4.0   \n",
              "3  ORD_630508    CUST_075       Drinks              NaN   -1.0       2.0   \n",
              "4  ORD_648269    CUST_031  Main Dishes    Pasta Alfredo   12.0       4.0   \n",
              "\n",
              "   order_total  order_date  payment_method  \n",
              "0          3.0  2023-12-21     Credit Card  \n",
              "1         12.0  2023-05-19  Digital Wallet  \n",
              "2         60.0  2023-09-27     Credit Card  \n",
              "3          5.0  2022-08-09     Credit Card  \n",
              "4         48.0  2022-05-15            Cash  "
            ],
            "text/html": [
              "\n",
              "  <div id=\"df-a397f318-036a-448f-9263-4a69df9f6349\" class=\"colab-df-container\">\n",
              "    <div>\n",
              "<style scoped>\n",
              "    .dataframe tbody tr th:only-of-type {\n",
              "        vertical-align: middle;\n",
              "    }\n",
              "\n",
              "    .dataframe tbody tr th {\n",
              "        vertical-align: top;\n",
              "    }\n",
              "\n",
              "    .dataframe thead th {\n",
              "        text-align: right;\n",
              "    }\n",
              "</style>\n",
              "<table border=\"1\" class=\"dataframe\">\n",
              "  <thead>\n",
              "    <tr style=\"text-align: right;\">\n",
              "      <th></th>\n",
              "      <th>order_id</th>\n",
              "      <th>customer_id</th>\n",
              "      <th>category</th>\n",
              "      <th>item</th>\n",
              "      <th>price</th>\n",
              "      <th>quantity</th>\n",
              "      <th>order_total</th>\n",
              "      <th>order_date</th>\n",
              "      <th>payment_method</th>\n",
              "    </tr>\n",
              "  </thead>\n",
              "  <tbody>\n",
              "    <tr>\n",
              "      <th>0</th>\n",
              "      <td>ORD_705844</td>\n",
              "      <td>CUST_092</td>\n",
              "      <td>NaN</td>\n",
              "      <td>side salad#?</td>\n",
              "      <td>3.0</td>\n",
              "      <td>1.0</td>\n",
              "      <td>3.0</td>\n",
              "      <td>2023-12-21</td>\n",
              "      <td>Credit Card</td>\n",
              "    </tr>\n",
              "    <tr>\n",
              "      <th>1</th>\n",
              "      <td>ORD_338528</td>\n",
              "      <td>CUST_021</td>\n",
              "      <td>Side Dishes</td>\n",
              "      <td>Mashed Potatoes</td>\n",
              "      <td>4.0</td>\n",
              "      <td>3.0</td>\n",
              "      <td>12.0</td>\n",
              "      <td>2023-05-19</td>\n",
              "      <td>Digital Wallet</td>\n",
              "    </tr>\n",
              "    <tr>\n",
              "      <th>2</th>\n",
              "      <td>ORD_443849</td>\n",
              "      <td>CUST_029</td>\n",
              "      <td>Main Dishes</td>\n",
              "      <td>Grilled Chicken</td>\n",
              "      <td>15.0</td>\n",
              "      <td>4.0</td>\n",
              "      <td>60.0</td>\n",
              "      <td>2023-09-27</td>\n",
              "      <td>Credit Card</td>\n",
              "    </tr>\n",
              "    <tr>\n",
              "      <th>3</th>\n",
              "      <td>ORD_630508</td>\n",
              "      <td>CUST_075</td>\n",
              "      <td>Drinks</td>\n",
              "      <td>NaN</td>\n",
              "      <td>-1.0</td>\n",
              "      <td>2.0</td>\n",
              "      <td>5.0</td>\n",
              "      <td>2022-08-09</td>\n",
              "      <td>Credit Card</td>\n",
              "    </tr>\n",
              "    <tr>\n",
              "      <th>4</th>\n",
              "      <td>ORD_648269</td>\n",
              "      <td>CUST_031</td>\n",
              "      <td>Main Dishes</td>\n",
              "      <td>Pasta Alfredo</td>\n",
              "      <td>12.0</td>\n",
              "      <td>4.0</td>\n",
              "      <td>48.0</td>\n",
              "      <td>2022-05-15</td>\n",
              "      <td>Cash</td>\n",
              "    </tr>\n",
              "  </tbody>\n",
              "</table>\n",
              "</div>\n",
              "    <div class=\"colab-df-buttons\">\n",
              "\n",
              "  <div class=\"colab-df-container\">\n",
              "    <button class=\"colab-df-convert\" onclick=\"convertToInteractive('df-a397f318-036a-448f-9263-4a69df9f6349')\"\n",
              "            title=\"Convert this dataframe to an interactive table.\"\n",
              "            style=\"display:none;\">\n",
              "\n",
              "  <svg xmlns=\"http://www.w3.org/2000/svg\" height=\"24px\" viewBox=\"0 -960 960 960\">\n",
              "    <path d=\"M120-120v-720h720v720H120Zm60-500h600v-160H180v160Zm220 220h160v-160H400v160Zm0 220h160v-160H400v160ZM180-400h160v-160H180v160Zm440 0h160v-160H620v160ZM180-180h160v-160H180v160Zm440 0h160v-160H620v160Z\"/>\n",
              "  </svg>\n",
              "    </button>\n",
              "\n",
              "  <style>\n",
              "    .colab-df-container {\n",
              "      display:flex;\n",
              "      gap: 12px;\n",
              "    }\n",
              "\n",
              "    .colab-df-convert {\n",
              "      background-color: #E8F0FE;\n",
              "      border: none;\n",
              "      border-radius: 50%;\n",
              "      cursor: pointer;\n",
              "      display: none;\n",
              "      fill: #1967D2;\n",
              "      height: 32px;\n",
              "      padding: 0 0 0 0;\n",
              "      width: 32px;\n",
              "    }\n",
              "\n",
              "    .colab-df-convert:hover {\n",
              "      background-color: #E2EBFA;\n",
              "      box-shadow: 0px 1px 2px rgba(60, 64, 67, 0.3), 0px 1px 3px 1px rgba(60, 64, 67, 0.15);\n",
              "      fill: #174EA6;\n",
              "    }\n",
              "\n",
              "    .colab-df-buttons div {\n",
              "      margin-bottom: 4px;\n",
              "    }\n",
              "\n",
              "    [theme=dark] .colab-df-convert {\n",
              "      background-color: #3B4455;\n",
              "      fill: #D2E3FC;\n",
              "    }\n",
              "\n",
              "    [theme=dark] .colab-df-convert:hover {\n",
              "      background-color: #434B5C;\n",
              "      box-shadow: 0px 1px 3px 1px rgba(0, 0, 0, 0.15);\n",
              "      filter: drop-shadow(0px 1px 2px rgba(0, 0, 0, 0.3));\n",
              "      fill: #FFFFFF;\n",
              "    }\n",
              "  </style>\n",
              "\n",
              "    <script>\n",
              "      const buttonEl =\n",
              "        document.querySelector('#df-a397f318-036a-448f-9263-4a69df9f6349 button.colab-df-convert');\n",
              "      buttonEl.style.display =\n",
              "        google.colab.kernel.accessAllowed ? 'block' : 'none';\n",
              "\n",
              "      async function convertToInteractive(key) {\n",
              "        const element = document.querySelector('#df-a397f318-036a-448f-9263-4a69df9f6349');\n",
              "        const dataTable =\n",
              "          await google.colab.kernel.invokeFunction('convertToInteractive',\n",
              "                                                    [key], {});\n",
              "        if (!dataTable) return;\n",
              "\n",
              "        const docLinkHtml = 'Like what you see? Visit the ' +\n",
              "          '<a target=\"_blank\" href=https://colab.research.google.com/notebooks/data_table.ipynb>data table notebook</a>'\n",
              "          + ' to learn more about interactive tables.';\n",
              "        element.innerHTML = '';\n",
              "        dataTable['output_type'] = 'display_data';\n",
              "        await google.colab.output.renderOutput(dataTable, element);\n",
              "        const docLink = document.createElement('div');\n",
              "        docLink.innerHTML = docLinkHtml;\n",
              "        element.appendChild(docLink);\n",
              "      }\n",
              "    </script>\n",
              "  </div>\n",
              "\n",
              "\n",
              "    <div id=\"df-497e0f8f-ad9c-4733-a0b8-e1b41f282ccf\">\n",
              "      <button class=\"colab-df-quickchart\" onclick=\"quickchart('df-497e0f8f-ad9c-4733-a0b8-e1b41f282ccf')\"\n",
              "                title=\"Suggest charts\"\n",
              "                style=\"display:none;\">\n",
              "\n",
              "<svg xmlns=\"http://www.w3.org/2000/svg\" height=\"24px\"viewBox=\"0 0 24 24\"\n",
              "     width=\"24px\">\n",
              "    <g>\n",
              "        <path d=\"M19 3H5c-1.1 0-2 .9-2 2v14c0 1.1.9 2 2 2h14c1.1 0 2-.9 2-2V5c0-1.1-.9-2-2-2zM9 17H7v-7h2v7zm4 0h-2V7h2v10zm4 0h-2v-4h2v4z\"/>\n",
              "    </g>\n",
              "</svg>\n",
              "      </button>\n",
              "\n",
              "<style>\n",
              "  .colab-df-quickchart {\n",
              "      --bg-color: #E8F0FE;\n",
              "      --fill-color: #1967D2;\n",
              "      --hover-bg-color: #E2EBFA;\n",
              "      --hover-fill-color: #174EA6;\n",
              "      --disabled-fill-color: #AAA;\n",
              "      --disabled-bg-color: #DDD;\n",
              "  }\n",
              "\n",
              "  [theme=dark] .colab-df-quickchart {\n",
              "      --bg-color: #3B4455;\n",
              "      --fill-color: #D2E3FC;\n",
              "      --hover-bg-color: #434B5C;\n",
              "      --hover-fill-color: #FFFFFF;\n",
              "      --disabled-bg-color: #3B4455;\n",
              "      --disabled-fill-color: #666;\n",
              "  }\n",
              "\n",
              "  .colab-df-quickchart {\n",
              "    background-color: var(--bg-color);\n",
              "    border: none;\n",
              "    border-radius: 50%;\n",
              "    cursor: pointer;\n",
              "    display: none;\n",
              "    fill: var(--fill-color);\n",
              "    height: 32px;\n",
              "    padding: 0;\n",
              "    width: 32px;\n",
              "  }\n",
              "\n",
              "  .colab-df-quickchart:hover {\n",
              "    background-color: var(--hover-bg-color);\n",
              "    box-shadow: 0 1px 2px rgba(60, 64, 67, 0.3), 0 1px 3px 1px rgba(60, 64, 67, 0.15);\n",
              "    fill: var(--button-hover-fill-color);\n",
              "  }\n",
              "\n",
              "  .colab-df-quickchart-complete:disabled,\n",
              "  .colab-df-quickchart-complete:disabled:hover {\n",
              "    background-color: var(--disabled-bg-color);\n",
              "    fill: var(--disabled-fill-color);\n",
              "    box-shadow: none;\n",
              "  }\n",
              "\n",
              "  .colab-df-spinner {\n",
              "    border: 2px solid var(--fill-color);\n",
              "    border-color: transparent;\n",
              "    border-bottom-color: var(--fill-color);\n",
              "    animation:\n",
              "      spin 1s steps(1) infinite;\n",
              "  }\n",
              "\n",
              "  @keyframes spin {\n",
              "    0% {\n",
              "      border-color: transparent;\n",
              "      border-bottom-color: var(--fill-color);\n",
              "      border-left-color: var(--fill-color);\n",
              "    }\n",
              "    20% {\n",
              "      border-color: transparent;\n",
              "      border-left-color: var(--fill-color);\n",
              "      border-top-color: var(--fill-color);\n",
              "    }\n",
              "    30% {\n",
              "      border-color: transparent;\n",
              "      border-left-color: var(--fill-color);\n",
              "      border-top-color: var(--fill-color);\n",
              "      border-right-color: var(--fill-color);\n",
              "    }\n",
              "    40% {\n",
              "      border-color: transparent;\n",
              "      border-right-color: var(--fill-color);\n",
              "      border-top-color: var(--fill-color);\n",
              "    }\n",
              "    60% {\n",
              "      border-color: transparent;\n",
              "      border-right-color: var(--fill-color);\n",
              "    }\n",
              "    80% {\n",
              "      border-color: transparent;\n",
              "      border-right-color: var(--fill-color);\n",
              "      border-bottom-color: var(--fill-color);\n",
              "    }\n",
              "    90% {\n",
              "      border-color: transparent;\n",
              "      border-bottom-color: var(--fill-color);\n",
              "    }\n",
              "  }\n",
              "</style>\n",
              "\n",
              "      <script>\n",
              "        async function quickchart(key) {\n",
              "          const quickchartButtonEl =\n",
              "            document.querySelector('#' + key + ' button');\n",
              "          quickchartButtonEl.disabled = true;  // To prevent multiple clicks.\n",
              "          quickchartButtonEl.classList.add('colab-df-spinner');\n",
              "          try {\n",
              "            const charts = await google.colab.kernel.invokeFunction(\n",
              "                'suggestCharts', [key], {});\n",
              "          } catch (error) {\n",
              "            console.error('Error during call to suggestCharts:', error);\n",
              "          }\n",
              "          quickchartButtonEl.classList.remove('colab-df-spinner');\n",
              "          quickchartButtonEl.classList.add('colab-df-quickchart-complete');\n",
              "        }\n",
              "        (() => {\n",
              "          let quickchartButtonEl =\n",
              "            document.querySelector('#df-497e0f8f-ad9c-4733-a0b8-e1b41f282ccf button');\n",
              "          quickchartButtonEl.style.display =\n",
              "            google.colab.kernel.accessAllowed ? 'block' : 'none';\n",
              "        })();\n",
              "      </script>\n",
              "    </div>\n",
              "\n",
              "    </div>\n",
              "  </div>\n"
            ],
            "application/vnd.google.colaboratory.intrinsic+json": {
              "type": "dataframe",
              "variable_name": "df",
              "summary": "{\n  \"name\": \"df\",\n  \"rows\": 17534,\n  \"fields\": [\n    {\n      \"column\": \"order_id\",\n      \"properties\": {\n        \"dtype\": \"string\",\n        \"num_unique_values\": 17534,\n        \"samples\": [\n          \"ORD_841857\",\n          \"ORD_169290\",\n          \"ORD_173704\"\n        ],\n        \"semantic_type\": \"\",\n        \"description\": \"\"\n      }\n    },\n    {\n      \"column\": \"customer_id\",\n      \"properties\": {\n        \"dtype\": \"category\",\n        \"num_unique_values\": 100,\n        \"samples\": [\n          \"CUST_022\",\n          \"CUST_001\",\n          \"CUST_019\"\n        ],\n        \"semantic_type\": \"\",\n        \"description\": \"\"\n      }\n    },\n    {\n      \"column\": \"category\",\n      \"properties\": {\n        \"dtype\": \"category\",\n        \"num_unique_values\": 5,\n        \"samples\": [\n          \"Main Dishes\",\n          \"Starters\",\n          \"Drinks\"\n        ],\n        \"semantic_type\": \"\",\n        \"description\": \"\"\n      }\n    },\n    {\n      \"column\": \"item\",\n      \"properties\": {\n        \"dtype\": \"category\",\n        \"num_unique_values\": 176,\n        \"samples\": [\n          \"Fruit Salad\",\n          \"FRUIT SALAD\",\n          \"ORANGE JUICE?\"\n        ],\n        \"semantic_type\": \"\",\n        \"description\": \"\"\n      }\n    },\n    {\n      \"column\": \"price\",\n      \"properties\": {\n        \"dtype\": \"number\",\n        \"std\": 4.993781695720307,\n        \"min\": -1.0,\n        \"max\": 20.0,\n        \"num_unique_values\": 15,\n        \"samples\": [\n          2.5,\n          8.0,\n          3.0\n        ],\n        \"semantic_type\": \"\",\n        \"description\": \"\"\n      }\n    },\n    {\n      \"column\": \"quantity\",\n      \"properties\": {\n        \"dtype\": \"number\",\n        \"std\": 1.414597513630417,\n        \"min\": 1.0,\n        \"max\": 5.0,\n        \"num_unique_values\": 5,\n        \"samples\": [\n          3.0,\n          5.0,\n          4.0\n        ],\n        \"semantic_type\": \"\",\n        \"description\": \"\"\n      }\n    },\n    {\n      \"column\": \"order_total\",\n      \"properties\": {\n        \"dtype\": \"number\",\n        \"std\": 18.732548950059424,\n        \"min\": 1.0,\n        \"max\": 100.0,\n        \"num_unique_values\": 41,\n        \"samples\": [\n          16.0,\n          30.0,\n          70.0\n        ],\n        \"semantic_type\": \"\",\n        \"description\": \"\"\n      }\n    },\n    {\n      \"column\": \"order_date\",\n      \"properties\": {\n        \"dtype\": \"object\",\n        \"num_unique_values\": 730,\n        \"samples\": [\n          \"2023-10-02\",\n          \"2022-06-13\",\n          \"2022-04-20\"\n        ],\n        \"semantic_type\": \"\",\n        \"description\": \"\"\n      }\n    },\n    {\n      \"column\": \"payment_method\",\n      \"properties\": {\n        \"dtype\": \"category\",\n        \"num_unique_values\": 3,\n        \"samples\": [\n          \"Credit Card\",\n          \"Digital Wallet\",\n          \"Cash\"\n        ],\n        \"semantic_type\": \"\",\n        \"description\": \"\"\n      }\n    }\n  ]\n}"
            }
          },
          "metadata": {},
          "execution_count": 34
        }
      ]
    },
    {
      "cell_type": "markdown",
      "source": [
        "#2) Maʼlumotlarning umumiy holatini (info(), describe()) tekshiring."
      ],
      "metadata": {
        "id": "KwaHmTOl9CyF"
      }
    },
    {
      "cell_type": "code",
      "source": [
        "#javobni shu yerda yozing\n",
        "print(df.info())"
      ],
      "metadata": {
        "id": "bz0TzYna8Eqo",
        "colab": {
          "base_uri": "https://localhost:8080/"
        },
        "outputId": "2354f9c1-45a3-42ab-bd1b-805914ccba5e"
      },
      "execution_count": 35,
      "outputs": [
        {
          "output_type": "stream",
          "name": "stdout",
          "text": [
            "<class 'pandas.core.frame.DataFrame'>\n",
            "RangeIndex: 17534 entries, 0 to 17533\n",
            "Data columns (total 9 columns):\n",
            " #   Column          Non-Null Count  Dtype  \n",
            "---  ------          --------------  -----  \n",
            " 0   order_id        17534 non-null  object \n",
            " 1   customer_id     17534 non-null  object \n",
            " 2   category        17498 non-null  object \n",
            " 3   item            15776 non-null  object \n",
            " 4   price           17534 non-null  float64\n",
            " 5   quantity        17104 non-null  float64\n",
            " 6   order_total     17104 non-null  float64\n",
            " 7   order_date      17534 non-null  object \n",
            " 8   payment_method  16452 non-null  object \n",
            "dtypes: float64(3), object(6)\n",
            "memory usage: 1.2+ MB\n",
            "None\n"
          ]
        }
      ]
    },
    {
      "cell_type": "code",
      "source": [
        "#Statistik tavsif(raqamli ustunlar)\n",
        "print(df.describe())"
      ],
      "metadata": {
        "colab": {
          "base_uri": "https://localhost:8080/"
        },
        "id": "wrDQReOxTDde",
        "outputId": "9cae925c-e84e-455b-e154-be1fe82a103b"
      },
      "execution_count": 36,
      "outputs": [
        {
          "output_type": "stream",
          "name": "stdout",
          "text": [
            "              price      quantity   order_total\n",
            "count  17534.000000  17104.000000  17104.000000\n",
            "mean       6.207312      3.014149     19.914494\n",
            "std        4.993782      1.414598     18.732549\n",
            "min       -1.000000      1.000000      1.000000\n",
            "25%        3.000000      2.000000      7.500000\n",
            "50%        5.000000      3.000000     15.000000\n",
            "75%        7.000000      4.000000     25.000000\n",
            "max       20.000000      5.000000    100.000000\n"
          ]
        }
      ]
    },
    {
      "cell_type": "markdown",
      "source": [
        "#3) Har bir ustundagi boʻsh qiymatlarni aniqlang va ularni toʻldirish strategiyasini ishlab chiqing."
      ],
      "metadata": {
        "id": "xGW7RLaU9Vju"
      }
    },
    {
      "cell_type": "code",
      "source": [
        "#javobni shu yerda yozing\n",
        "#Bo'sh qiymatlarni sanash\n",
        "print(df.isna().sum())"
      ],
      "metadata": {
        "id": "aLRD_Ehz9SWE",
        "colab": {
          "base_uri": "https://localhost:8080/"
        },
        "outputId": "c05323c7-77f1-4a4e-9ac3-1d845d3e2693"
      },
      "execution_count": 37,
      "outputs": [
        {
          "output_type": "stream",
          "name": "stdout",
          "text": [
            "order_id             0\n",
            "customer_id          0\n",
            "category            36\n",
            "item              1758\n",
            "price                0\n",
            "quantity           430\n",
            "order_total        430\n",
            "order_date           0\n",
            "payment_method    1082\n",
            "dtype: int64\n"
          ]
        }
      ]
    },
    {
      "cell_type": "markdown",
      "source": [
        "Agar category yoki itemda NAN bo'lsa, uni \"Unknown\" yoki eng ko'p uchraydigan qiymat bilan to'ldirish mumkin .\n",
        "price, quantiti kabi raqamli ustunlarda NAN bo'lsa o'rtacha, yoki median bilan to'ldirish, yoki o'sha satrni o'chirish mumkin\n"
      ],
      "metadata": {
        "id": "Wp6bkB4YUR0X"
      }
    },
    {
      "cell_type": "code",
      "source": [
        "# Misol uchun\n",
        "df['category'].fillna('Unknown', inplace=True)"
      ],
      "metadata": {
        "colab": {
          "base_uri": "https://localhost:8080/"
        },
        "id": "XiPi-C4IVCAz",
        "outputId": "76e77402-2564-4f23-d762-8a2d539e226b"
      },
      "execution_count": 38,
      "outputs": [
        {
          "output_type": "stream",
          "name": "stderr",
          "text": [
            "<ipython-input-38-85098abac3f0>:2: FutureWarning: A value is trying to be set on a copy of a DataFrame or Series through chained assignment using an inplace method.\n",
            "The behavior will change in pandas 3.0. This inplace method will never work because the intermediate object on which we are setting values always behaves as a copy.\n",
            "\n",
            "For example, when doing 'df[col].method(value, inplace=True)', try using 'df.method({col: value}, inplace=True)' or df[col] = df[col].method(value) instead, to perform the operation inplace on the original object.\n",
            "\n",
            "\n",
            "  df['category'].fillna('Unknown', inplace=True)\n"
          ]
        }
      ]
    },
    {
      "cell_type": "code",
      "source": [
        "df['item'].fillna('Unknown', inplace=True)"
      ],
      "metadata": {
        "colab": {
          "base_uri": "https://localhost:8080/"
        },
        "id": "L32Bs0XKVd_Z",
        "outputId": "7c580670-04d5-4a08-a845-6f8b96e72031"
      },
      "execution_count": 39,
      "outputs": [
        {
          "output_type": "stream",
          "name": "stderr",
          "text": [
            "<ipython-input-39-296e0dd704e9>:1: FutureWarning: A value is trying to be set on a copy of a DataFrame or Series through chained assignment using an inplace method.\n",
            "The behavior will change in pandas 3.0. This inplace method will never work because the intermediate object on which we are setting values always behaves as a copy.\n",
            "\n",
            "For example, when doing 'df[col].method(value, inplace=True)', try using 'df.method({col: value}, inplace=True)' or df[col] = df[col].method(value) instead, to perform the operation inplace on the original object.\n",
            "\n",
            "\n",
            "  df['item'].fillna('Unknown', inplace=True)\n"
          ]
        }
      ]
    },
    {
      "cell_type": "code",
      "source": [
        "df['price'].fillna(df['price'].median(), inplace=True)"
      ],
      "metadata": {
        "colab": {
          "base_uri": "https://localhost:8080/"
        },
        "id": "hcRJ9Q-bVwMI",
        "outputId": "035a1b53-763b-4fe5-9a18-b53d014395d4"
      },
      "execution_count": 40,
      "outputs": [
        {
          "output_type": "stream",
          "name": "stderr",
          "text": [
            "<ipython-input-40-b13d98850009>:1: FutureWarning: A value is trying to be set on a copy of a DataFrame or Series through chained assignment using an inplace method.\n",
            "The behavior will change in pandas 3.0. This inplace method will never work because the intermediate object on which we are setting values always behaves as a copy.\n",
            "\n",
            "For example, when doing 'df[col].method(value, inplace=True)', try using 'df.method({col: value}, inplace=True)' or df[col] = df[col].method(value) instead, to perform the operation inplace on the original object.\n",
            "\n",
            "\n",
            "  df['price'].fillna(df['price'].median(), inplace=True)\n"
          ]
        }
      ]
    },
    {
      "cell_type": "code",
      "source": [
        "df['quantity'].fillna(1, inplace=True)"
      ],
      "metadata": {
        "colab": {
          "base_uri": "https://localhost:8080/"
        },
        "id": "1MyOheZpWGSq",
        "outputId": "2fc851d6-67a1-4582-a57f-7b1f5f540f51"
      },
      "execution_count": 41,
      "outputs": [
        {
          "output_type": "stream",
          "name": "stderr",
          "text": [
            "<ipython-input-41-931bb35b8191>:1: FutureWarning: A value is trying to be set on a copy of a DataFrame or Series through chained assignment using an inplace method.\n",
            "The behavior will change in pandas 3.0. This inplace method will never work because the intermediate object on which we are setting values always behaves as a copy.\n",
            "\n",
            "For example, when doing 'df[col].method(value, inplace=True)', try using 'df.method({col: value}, inplace=True)' or df[col] = df[col].method(value) instead, to perform the operation inplace on the original object.\n",
            "\n",
            "\n",
            "  df['quantity'].fillna(1, inplace=True)\n"
          ]
        }
      ]
    },
    {
      "cell_type": "code",
      "source": [
        "df['order_total'].fillna(df['price'] * df['quantity'], inplace=True)"
      ],
      "metadata": {
        "colab": {
          "base_uri": "https://localhost:8080/"
        },
        "id": "Z8ATCaJIXAta",
        "outputId": "0dbb93a0-3d17-48c9-a613-f8299a25ce57"
      },
      "execution_count": 42,
      "outputs": [
        {
          "output_type": "stream",
          "name": "stderr",
          "text": [
            "<ipython-input-42-e4be2f6194cd>:1: FutureWarning: A value is trying to be set on a copy of a DataFrame or Series through chained assignment using an inplace method.\n",
            "The behavior will change in pandas 3.0. This inplace method will never work because the intermediate object on which we are setting values always behaves as a copy.\n",
            "\n",
            "For example, when doing 'df[col].method(value, inplace=True)', try using 'df.method({col: value}, inplace=True)' or df[col] = df[col].method(value) instead, to perform the operation inplace on the original object.\n",
            "\n",
            "\n",
            "  df['order_total'].fillna(df['price'] * df['quantity'], inplace=True)\n"
          ]
        }
      ]
    },
    {
      "cell_type": "code",
      "source": [
        "# payment_method uchun ko'p uchraydigan qiymat bilan to'ldirish\n",
        "df['payment_method'].fillna(df['payment_method'].mode()[0], inplace=True)"
      ],
      "metadata": {
        "colab": {
          "base_uri": "https://localhost:8080/"
        },
        "id": "OMTvzwbiXffJ",
        "outputId": "9054e2b0-45a5-4ced-a5fe-95b91e0a41d3"
      },
      "execution_count": 43,
      "outputs": [
        {
          "output_type": "stream",
          "name": "stderr",
          "text": [
            "<ipython-input-43-a0e558f96f92>:2: FutureWarning: A value is trying to be set on a copy of a DataFrame or Series through chained assignment using an inplace method.\n",
            "The behavior will change in pandas 3.0. This inplace method will never work because the intermediate object on which we are setting values always behaves as a copy.\n",
            "\n",
            "For example, when doing 'df[col].method(value, inplace=True)', try using 'df.method({col: value}, inplace=True)' or df[col] = df[col].method(value) instead, to perform the operation inplace on the original object.\n",
            "\n",
            "\n",
            "  df['payment_method'].fillna(df['payment_method'].mode()[0], inplace=True)\n"
          ]
        }
      ]
    },
    {
      "cell_type": "markdown",
      "source": [
        "#4) Har bir ustundagi takroriy qiymatlarni toping va ularga qanday oʻzgartirish kiritish kerakligini hal qiling."
      ],
      "metadata": {
        "id": "DuXQUURbAqjz"
      }
    },
    {
      "cell_type": "code",
      "source": [
        "#javobni shu yerda yozing\n",
        "#Takroriy qiymatlarni aniqlash va to'ldirish\n",
        "for col in df.columns:\n",
        "  print(f\"{col}:{df[col].nunique()} noyob qiymat\")"
      ],
      "metadata": {
        "id": "M5Gw2WD49iQQ",
        "colab": {
          "base_uri": "https://localhost:8080/"
        },
        "outputId": "01aa9e9d-039c-434f-a024-a93cef5e4833"
      },
      "execution_count": 45,
      "outputs": [
        {
          "output_type": "stream",
          "name": "stdout",
          "text": [
            "order_id:17534 noyob qiymat\n",
            "customer_id:100 noyob qiymat\n",
            "category:6 noyob qiymat\n",
            "item:177 noyob qiymat\n",
            "price:15 noyob qiymat\n",
            "quantity:5 noyob qiymat\n",
            "order_total:42 noyob qiymat\n",
            "order_date:730 noyob qiymat\n",
            "payment_method:3 noyob qiymat\n"
          ]
        }
      ]
    },
    {
      "cell_type": "code",
      "source": [
        "# Duplicate satrlar bormi, tekshirish\n",
        "print(\"Duplicate satrlar soni:\", df.duplicated().sum())"
      ],
      "metadata": {
        "colab": {
          "base_uri": "https://localhost:8080/"
        },
        "id": "Fffz_mqfY7dL",
        "outputId": "7c598448-cd97-48f1-c6d8-377f41200d8c"
      },
      "execution_count": 46,
      "outputs": [
        {
          "output_type": "stream",
          "name": "stdout",
          "text": [
            "Duplicate satrlar soni: 0\n"
          ]
        }
      ]
    },
    {
      "cell_type": "code",
      "source": [
        "df.drop_duplicates(inplace=True)"
      ],
      "metadata": {
        "id": "0iL7TNnzbuet"
      },
      "execution_count": 47,
      "outputs": []
    },
    {
      "cell_type": "markdown",
      "source": [
        "#5) Maʼlumotlar toʻplamidagi noto‘g‘ri maʼlumotlar (masalan, son turishi kerak bo‘lgan ustunda matn bo‘lsa) mavjudligini tekshiring va to‘g‘rilang."
      ],
      "metadata": {
        "id": "fbRCQr33BQO7"
      }
    },
    {
      "cell_type": "code",
      "source": [
        "#javobni shu yerda yozing\n",
        "print(df['price'].apply(lambda x: isinstance(x,(int, float))).all())"
      ],
      "metadata": {
        "id": "qgZBkN8SBXuJ",
        "colab": {
          "base_uri": "https://localhost:8080/"
        },
        "outputId": "2faac24d-e432-418e-cd44-034cdbd4a3c3"
      },
      "execution_count": 48,
      "outputs": [
        {
          "output_type": "stream",
          "name": "stdout",
          "text": [
            "True\n"
          ]
        }
      ]
    },
    {
      "cell_type": "code",
      "source": [
        "print(df['quantity'].apply(lambda x: isinstance(x,(int,float))).all())"
      ],
      "metadata": {
        "colab": {
          "base_uri": "https://localhost:8080/"
        },
        "id": "Fn3sJEUScmKZ",
        "outputId": "3992721b-4544-4477-d5b1-76d3f1bcc07b"
      },
      "execution_count": 49,
      "outputs": [
        {
          "output_type": "stream",
          "name": "stdout",
          "text": [
            "True\n"
          ]
        }
      ]
    },
    {
      "cell_type": "code",
      "source": [
        "#Agar noto'g'ri turdagi qiymatlar bo'lsa , ularni topamiz\n",
        "price_non_numeric = df[~df['price'].apply(lambda x: isinstance(x,(int,float)))]"
      ],
      "metadata": {
        "id": "10qFr8jQdOKi"
      },
      "execution_count": 51,
      "outputs": []
    },
    {
      "cell_type": "code",
      "source": [
        "quantity_non_numeric = df[~df['quantity'].apply(lambda x: isinstance(x, (int,float)))]\n",
        "print(price_non_numeric)\n",
        "print(quantity_non_numeric)"
      ],
      "metadata": {
        "colab": {
          "base_uri": "https://localhost:8080/"
        },
        "id": "0hebgsk9eCty",
        "outputId": "67c3a016-b61c-43a8-ad14-19a3ff44fa64"
      },
      "execution_count": 54,
      "outputs": [
        {
          "output_type": "stream",
          "name": "stdout",
          "text": [
            "Empty DataFrame\n",
            "Columns: [order_id, customer_id, category, item, price, quantity, order_total, order_date, payment_method]\n",
            "Index: []\n",
            "Empty DataFrame\n",
            "Columns: [order_id, customer_id, category, item, price, quantity, order_total, order_date, payment_method]\n",
            "Index: []\n"
          ]
        }
      ]
    },
    {
      "cell_type": "code",
      "source": [
        "# Masalan, string qiymatlar bo'lsa ularni NAN qilib keyin to'ldirish.\n",
        "df['price'] = pd.to_numeric(df['price'], errors='coerce')\n",
        "df['quantity'] = pd.to_numeric(df['quantity'], errors='coerce')\n",
        "df['price'].fillna(df['price'].median(),inplace=True)\n",
        "df['quantity'].fillna(1,inplace=True)"
      ],
      "metadata": {
        "colab": {
          "base_uri": "https://localhost:8080/"
        },
        "id": "5lYZ07uBfCBc",
        "outputId": "09d6e5fe-fe4a-42f7-eaf2-da65431f591b"
      },
      "execution_count": 56,
      "outputs": [
        {
          "output_type": "stream",
          "name": "stderr",
          "text": [
            "<ipython-input-56-eb36b397f4e6>:4: FutureWarning: A value is trying to be set on a copy of a DataFrame or Series through chained assignment using an inplace method.\n",
            "The behavior will change in pandas 3.0. This inplace method will never work because the intermediate object on which we are setting values always behaves as a copy.\n",
            "\n",
            "For example, when doing 'df[col].method(value, inplace=True)', try using 'df.method({col: value}, inplace=True)' or df[col] = df[col].method(value) instead, to perform the operation inplace on the original object.\n",
            "\n",
            "\n",
            "  df['price'].fillna(df['price'].median(),inplace=True)\n",
            "<ipython-input-56-eb36b397f4e6>:5: FutureWarning: A value is trying to be set on a copy of a DataFrame or Series through chained assignment using an inplace method.\n",
            "The behavior will change in pandas 3.0. This inplace method will never work because the intermediate object on which we are setting values always behaves as a copy.\n",
            "\n",
            "For example, when doing 'df[col].method(value, inplace=True)', try using 'df.method({col: value}, inplace=True)' or df[col] = df[col].method(value) instead, to perform the operation inplace on the original object.\n",
            "\n",
            "\n",
            "  df['quantity'].fillna(1,inplace=True)\n"
          ]
        }
      ]
    },
    {
      "cell_type": "markdown",
      "source": [
        "#6) Maʼlumotlar toʻplamidagi **katta/kichik harf** muammolari boʻlgan joylarni toping va bir xil formatga keltiring."
      ],
      "metadata": {
        "id": "6MIfB4zZBck6"
      }
    },
    {
      "cell_type": "code",
      "source": [
        "#javobni shu yerda yozing\n",
        "df['category'] = df['category'].str.lower()\n",
        "df['item'] = df['item'].str.lower()\n",
        "df['payment_method']= df['payment_method'].str.lower()"
      ],
      "metadata": {
        "id": "I1rU6jDGBrvB"
      },
      "execution_count": 57,
      "outputs": []
    },
    {
      "cell_type": "markdown",
      "source": [
        "#7) Maʼlumotlar turini oʻzgartirish.\n",
        " * Ustunlarning maʼlumot turlarini tekshiring. Notoʻgʻri turlarga ega boʻlgan ustunlarni toʻgʻri formatga oʻtkazing.\n",
        " * `order_date` yoki unga oʻxshash ustunni datetime formatiga oʻtkazing."
      ],
      "metadata": {
        "id": "iYViqvgcBtIr"
      }
    },
    {
      "cell_type": "code",
      "source": [
        "#javobni shu yerda yozing\n",
        "df['order_date'] = pd.to_datetime(df['order_date'], errors='coerce')\n",
        "print(df.info())"
      ],
      "metadata": {
        "id": "B0jtd7GwCg80",
        "colab": {
          "base_uri": "https://localhost:8080/"
        },
        "outputId": "51a55544-0dad-4b74-e373-01750dc6abc6"
      },
      "execution_count": 58,
      "outputs": [
        {
          "output_type": "stream",
          "name": "stdout",
          "text": [
            "<class 'pandas.core.frame.DataFrame'>\n",
            "RangeIndex: 17534 entries, 0 to 17533\n",
            "Data columns (total 9 columns):\n",
            " #   Column          Non-Null Count  Dtype         \n",
            "---  ------          --------------  -----         \n",
            " 0   order_id        17534 non-null  object        \n",
            " 1   customer_id     17534 non-null  object        \n",
            " 2   category        17534 non-null  object        \n",
            " 3   item            17534 non-null  object        \n",
            " 4   price           17534 non-null  float64       \n",
            " 5   quantity        17534 non-null  float64       \n",
            " 6   order_total     17534 non-null  float64       \n",
            " 7   order_date      17534 non-null  datetime64[ns]\n",
            " 8   payment_method  17534 non-null  object        \n",
            "dtypes: datetime64[ns](1), float64(3), object(5)\n",
            "memory usage: 1.2+ MB\n",
            "None\n"
          ]
        }
      ]
    },
    {
      "cell_type": "markdown",
      "source": [
        "#8) Mahsulot nomlarida noto‘g‘ri yoki nomaʼlum belgilar (?, NaN, #) mavjudligini tekshiring va ularni tuzating."
      ],
      "metadata": {
        "id": "5KxCddT2CjOD"
      }
    },
    {
      "cell_type": "code",
      "source": [
        "#javobni shu yerda yozing\n",
        "mask = df['item'].str.contains(r'[?#]',na=False)\n",
        "print(df[mask])"
      ],
      "metadata": {
        "id": "CE_0p3sfCwRY",
        "colab": {
          "base_uri": "https://localhost:8080/"
        },
        "outputId": "b90776db-8256-404d-a292-8883071307b9"
      },
      "execution_count": 60,
      "outputs": [
        {
          "output_type": "stream",
          "name": "stdout",
          "text": [
            "         order_id customer_id     category                 item  price  \\\n",
            "0      ORD_705844    CUST_092      unknown         side salad#?    3.0   \n",
            "85     ORD_539782    CUST_060  side dishes  grilled vegetables?    5.0   \n",
            "100    ORD_696255    CUST_055     starters       nachos grande#   10.0   \n",
            "170    ORD_764058    CUST_043  main dishes     grilled chicken?   15.0   \n",
            "200    ORD_217030    CUST_021     starters        chicken melt#    8.0   \n",
            "...           ...         ...          ...                  ...    ...   \n",
            "17340  ORD_346626    CUST_006  main dishes              salmon?   18.0   \n",
            "17400  ORD_992680    CUST_062  main dishes  vegetarian platter#   14.0   \n",
            "17425  ORD_283299    CUST_083  side dishes  grilled vegetables?    5.0   \n",
            "17500  ORD_230561    CUST_085      unknown          beef chili#    7.0   \n",
            "17510  ORD_927180    CUST_043     starters        cheese fries?    5.0   \n",
            "\n",
            "       quantity  order_total order_date  payment_method  \n",
            "0           1.0          3.0 2023-12-21     credit card  \n",
            "85          1.0          5.0 2022-03-28     credit card  \n",
            "100         1.0         10.0 2022-07-29  digital wallet  \n",
            "170         3.0         45.0 2023-05-21  digital wallet  \n",
            "200         4.0         32.0 2023-05-28            cash  \n",
            "...         ...          ...        ...             ...  \n",
            "17340       2.0         36.0 2022-07-04  digital wallet  \n",
            "17400       3.0         42.0 2022-02-14  digital wallet  \n",
            "17425       2.0         10.0 2023-10-19            cash  \n",
            "17500       3.0         21.0 2023-03-27            cash  \n",
            "17510       4.0         20.0 2023-12-16            cash  \n",
            "\n",
            "[336 rows x 9 columns]\n"
          ]
        }
      ]
    },
    {
      "cell_type": "code",
      "source": [
        "df['item'] = df['item'].str.replace(r'[?#]', '', regex=True).str.strip()"
      ],
      "metadata": {
        "id": "O1CzkmeUiNUM"
      },
      "execution_count": 61,
      "outputs": []
    },
    {
      "cell_type": "code",
      "source": [
        "df['item'].fillna('unknown', inplace=True)"
      ],
      "metadata": {
        "colab": {
          "base_uri": "https://localhost:8080/"
        },
        "id": "a6JB25Vwl7wv",
        "outputId": "a718ffc8-7278-451f-84fa-8478b123f0ae"
      },
      "execution_count": 62,
      "outputs": [
        {
          "output_type": "stream",
          "name": "stderr",
          "text": [
            "<ipython-input-62-5fcc417c144c>:1: FutureWarning: A value is trying to be set on a copy of a DataFrame or Series through chained assignment using an inplace method.\n",
            "The behavior will change in pandas 3.0. This inplace method will never work because the intermediate object on which we are setting values always behaves as a copy.\n",
            "\n",
            "For example, when doing 'df[col].method(value, inplace=True)', try using 'df.method({col: value}, inplace=True)' or df[col] = df[col].method(value) instead, to perform the operation inplace on the original object.\n",
            "\n",
            "\n",
            "  df['item'].fillna('unknown', inplace=True)\n"
          ]
        }
      ]
    },
    {
      "cell_type": "markdown",
      "source": [
        "#**Maʼlumotlarni filtrlash va qayta ishlash**"
      ],
      "metadata": {
        "id": "-5uDXOiIDZeG"
      }
    },
    {
      "cell_type": "markdown",
      "source": [
        "#9) Manfiy narx yoki 0 ga teng narx qiymatlarini toping va ularni qanday oʻzgartirish kerakligini hal qiling."
      ],
      "metadata": {
        "id": "TU0D2kyFDxIL"
      }
    },
    {
      "cell_type": "code",
      "source": [
        "#javobni shu yerda yozing\n",
        "print(df[df['price'] <=0])"
      ],
      "metadata": {
        "id": "QO8GxDGmEG8n",
        "colab": {
          "base_uri": "https://localhost:8080/"
        },
        "outputId": "7f57fb63-339b-4269-e542-29e6de1bec20"
      },
      "execution_count": 63,
      "outputs": [
        {
          "output_type": "stream",
          "name": "stdout",
          "text": [
            "         order_id customer_id     category     item  price  quantity  \\\n",
            "3      ORD_630508    CUST_075       drinks  unknown   -1.0       2.0   \n",
            "75     ORD_367023    CUST_055  side dishes  unknown   -1.0       1.0   \n",
            "83     ORD_167858    CUST_056  side dishes  unknown   -1.0       5.0   \n",
            "112    ORD_289733    CUST_057       drinks  unknown   -1.0       5.0   \n",
            "118    ORD_627458    CUST_058  side dishes  unknown   -1.0       1.0   \n",
            "...           ...         ...          ...      ...    ...       ...   \n",
            "17497  ORD_205432    CUST_090       drinks  unknown   -1.0       1.0   \n",
            "17499  ORD_118085    CUST_089       drinks  unknown   -1.0       4.0   \n",
            "17506  ORD_563553    CUST_044  main dishes  unknown   -1.0       1.0   \n",
            "17509  ORD_239707    CUST_056     starters  unknown   -1.0       1.0   \n",
            "17529  ORD_320102    CUST_021       drinks  unknown   -1.0       4.0   \n",
            "\n",
            "       order_total order_date  payment_method  \n",
            "3              5.0 2022-08-09     credit card  \n",
            "75            -1.0 2022-05-29     credit card  \n",
            "83            25.0 2022-04-01            cash  \n",
            "112            5.0 2022-01-05     credit card  \n",
            "118           -1.0 2023-08-24  digital wallet  \n",
            "...            ...        ...             ...  \n",
            "17497         -1.0 2022-03-03            cash  \n",
            "17499         12.0 2023-04-09  digital wallet  \n",
            "17506         -1.0 2022-07-20  digital wallet  \n",
            "17509          8.0 2023-07-27     credit card  \n",
            "17529          4.0 2023-12-23            cash  \n",
            "\n",
            "[876 rows x 9 columns]\n"
          ]
        }
      ]
    },
    {
      "cell_type": "code",
      "source": [
        "#Ularga median qiymatni qo'yish, yoki satrni o'chirish mumkin\n",
        "df.loc[df['price'] <=0, 'price']=df['price'].median()"
      ],
      "metadata": {
        "id": "QLaGJ8AOmkWY"
      },
      "execution_count": 65,
      "outputs": []
    },
    {
      "cell_type": "markdown",
      "source": [
        "#10) Boʻsh toifalar (kategoriya) mavjudligini tekshiring va toʻgʻri kategoriya berish strategiyasini ishlab chiqing."
      ],
      "metadata": {
        "id": "ctW9mQEzHRwE"
      }
    },
    {
      "cell_type": "code",
      "source": [
        "#javobni shu yerda yozing\n",
        "print(df['category'].isna().sum())"
      ],
      "metadata": {
        "id": "xjZ7EK3SHZJ_",
        "colab": {
          "base_uri": "https://localhost:8080/"
        },
        "outputId": "bd90d3d2-f253-4d4d-edc1-bee089fdb9e5"
      },
      "execution_count": 66,
      "outputs": [
        {
          "output_type": "stream",
          "name": "stdout",
          "text": [
            "0\n"
          ]
        }
      ]
    },
    {
      "cell_type": "code",
      "source": [
        "# Bo'sh kategoriya bo'lsa 'unknown' deb to'ldirish\n",
        "df['category'].fillna('unknown',inplace=True)"
      ],
      "metadata": {
        "colab": {
          "base_uri": "https://localhost:8080/"
        },
        "id": "s7gh2BBrnvXa",
        "outputId": "d06919b4-7bbd-449e-cae3-e6f18ec7ff5a"
      },
      "execution_count": 67,
      "outputs": [
        {
          "output_type": "stream",
          "name": "stderr",
          "text": [
            "<ipython-input-67-34f71f35fca0>:2: FutureWarning: A value is trying to be set on a copy of a DataFrame or Series through chained assignment using an inplace method.\n",
            "The behavior will change in pandas 3.0. This inplace method will never work because the intermediate object on which we are setting values always behaves as a copy.\n",
            "\n",
            "For example, when doing 'df[col].method(value, inplace=True)', try using 'df.method({col: value}, inplace=True)' or df[col] = df[col].method(value) instead, to perform the operation inplace on the original object.\n",
            "\n",
            "\n",
            "  df['category'].fillna('unknown',inplace=True)\n"
          ]
        }
      ]
    },
    {
      "cell_type": "markdown",
      "source": [
        "#11) Bir xil, lekin turlicha yozilgan qiymatlar (Coffee, cofee, COFEE) mavjudligini tekshiring va tuzating."
      ],
      "metadata": {
        "id": "fwB59uGdH_bX"
      }
    },
    {
      "cell_type": "code",
      "source": [
        "#javobni shu yerda yozing\n",
        "print(df['item'].value_counts().head(20))"
      ],
      "metadata": {
        "id": "VUXL1AKhISvX",
        "colab": {
          "base_uri": "https://localhost:8080/"
        },
        "outputId": "3e86374c-08c6-4210-95fa-1c2504359c6d"
      },
      "execution_count": 68,
      "outputs": [
        {
          "output_type": "stream",
          "name": "stdout",
          "text": [
            "item\n",
            "unknown               1758\n",
            "pasta alfredo          998\n",
            "side salad             978\n",
            "ice cream              936\n",
            "water (0.5)            902\n",
            "french fries           897\n",
            "grilled chicken        822\n",
            "mashed potatoes        799\n",
            "chocolate cake         798\n",
            "coca cola              756\n",
            "cheese fries           686\n",
            "orange juice           591\n",
            "grilled vegetables     578\n",
            "steak                  574\n",
            "cheesecake             485\n",
            "lemonade               473\n",
            "sweet potato fries     471\n",
            "beef chili             470\n",
            "brownie                469\n",
            "fruit salad            449\n",
            "Name: count, dtype: int64\n"
          ]
        }
      ]
    },
    {
      "cell_type": "markdown",
      "source": [
        "#Qo'lda ko'rib chiqib tuzatish mumkin"
      ],
      "metadata": {
        "id": "zrthbitxonsc"
      }
    },
    {
      "cell_type": "markdown",
      "source": [
        "#12) `Customer ID` yoki boshqa identifikatorlarning takrorlanishini tekshiring."
      ],
      "metadata": {
        "id": "VnU6WJI5KiKd"
      }
    },
    {
      "cell_type": "code",
      "source": [
        "#javobni shu yerda yozing\n",
        "print(df['customer_id'].duplicated().sum())"
      ],
      "metadata": {
        "id": "rOhrI-2cLFbi",
        "colab": {
          "base_uri": "https://localhost:8080/"
        },
        "outputId": "69029a03-218d-46ca-c5a3-0ac7eb6cec47"
      },
      "execution_count": 69,
      "outputs": [
        {
          "output_type": "stream",
          "name": "stdout",
          "text": [
            "17434\n"
          ]
        }
      ]
    },
    {
      "cell_type": "code",
      "source": [
        "#Buyurtma ID bo'yicha tekshirish\n",
        "print(df['order_id'].duplicated().sum())"
      ],
      "metadata": {
        "colab": {
          "base_uri": "https://localhost:8080/"
        },
        "id": "5X8qWufWpL44",
        "outputId": "50c3dbce-4028-455f-8e00-037646d887da"
      },
      "execution_count": 70,
      "outputs": [
        {
          "output_type": "stream",
          "name": "stdout",
          "text": [
            "0\n"
          ]
        }
      ]
    },
    {
      "cell_type": "markdown",
      "source": [
        "#13) Mahsulotning ortiqcha taʼriflarini olib tashlang (Water (0.5), Water (1.0), Water → faqat Water qoldirish)."
      ],
      "metadata": {
        "id": "qoVSr-H8LGxq"
      }
    },
    {
      "cell_type": "code",
      "source": [
        "#javobni shu yerda yozing\n",
        "import re\n",
        "def clean_item_name(name):\n",
        "  return re.sub(r'\\s*\\(.*\\)', '', name).strip()\n",
        "df['item']=df['item'].apply(clean_item_name)"
      ],
      "metadata": {
        "id": "FXiEr3fiLR3R"
      },
      "execution_count": 73,
      "outputs": []
    },
    {
      "cell_type": "markdown",
      "source": [
        "#**Qayta ishlangan maʼlumotlar bilan tahlil**"
      ],
      "metadata": {
        "id": "uQRzncvaSkv6"
      }
    },
    {
      "cell_type": "markdown",
      "source": [
        "#14) Eng koʻp sotilgan 5 ta mahsulotni aniqlang."
      ],
      "metadata": {
        "id": "bAV_IVP0SN6j"
      }
    },
    {
      "cell_type": "code",
      "source": [
        "#javobni shu yerda yozing\n",
        "top_5_items = df.groupby('item')['quantity'].sum().sort_values(ascending=False).head(5)\n",
        "print(top_5_items)"
      ],
      "metadata": {
        "id": "dA81q8p-R0mR",
        "colab": {
          "base_uri": "https://localhost:8080/"
        },
        "outputId": "de1e4efc-2c11-4419-c343-ecd4fa683ff3"
      },
      "execution_count": 75,
      "outputs": [
        {
          "output_type": "stream",
          "name": "stdout",
          "text": [
            "item\n",
            "unknown          4410.0\n",
            "pasta alfredo    3094.0\n",
            "side salad       2932.0\n",
            "ice cream        2929.0\n",
            "water            2899.0\n",
            "Name: quantity, dtype: float64\n"
          ]
        }
      ]
    },
    {
      "cell_type": "markdown",
      "source": [
        "#15) Har bir mijoz oʻrtacha qancha pul sarflaganini hisoblang."
      ],
      "metadata": {
        "id": "4GesRmeJSzAa"
      }
    },
    {
      "cell_type": "code",
      "source": [
        "#javobni shu yerda yozing\n",
        "avg_spent_per_customer = df.groupby('customer_id')['order_total'].mean()\n",
        "print(avg_spent_per_customer.head())"
      ],
      "metadata": {
        "id": "vCshapSFS7xZ",
        "colab": {
          "base_uri": "https://localhost:8080/"
        },
        "outputId": "39db9cab-33fd-4245-dea5-e78e65a3e1c8"
      },
      "execution_count": 76,
      "outputs": [
        {
          "output_type": "stream",
          "name": "stdout",
          "text": [
            "customer_id\n",
            "CUST_001    17.362360\n",
            "CUST_002    19.313559\n",
            "CUST_003    16.530675\n",
            "CUST_004    18.560345\n",
            "CUST_005    17.319620\n",
            "Name: order_total, dtype: float64\n"
          ]
        }
      ]
    },
    {
      "cell_type": "markdown",
      "source": [
        "#16) Mijozlarning qaysi kunlarda koʻproq xarid qilgani bo‘yicha tahlil qiling."
      ],
      "metadata": {
        "id": "qG0D7TBcS99v"
      }
    },
    {
      "cell_type": "code",
      "source": [
        "#javobni shu yerda yozing\n",
        "#Kunlar bo'yicha xaridlar soni\n",
        "df['order_day'] = df['order_date'].dt.date\n",
        "daily_sales = df.groupby('order_day')['order_id'].nunique().sort_values(ascending=False)\n",
        "print(daily_sales.head())"
      ],
      "metadata": {
        "id": "rBu2WVyFTeZX",
        "colab": {
          "base_uri": "https://localhost:8080/"
        },
        "outputId": "f067d154-2e80-4011-f4ff-ce0ffb50ef97"
      },
      "execution_count": 77,
      "outputs": [
        {
          "output_type": "stream",
          "name": "stdout",
          "text": [
            "order_day\n",
            "2023-11-25    42\n",
            "2022-03-31    41\n",
            "2022-04-02    40\n",
            "2023-08-22    40\n",
            "2023-08-17    37\n",
            "Name: order_id, dtype: int64\n"
          ]
        }
      ]
    },
    {
      "cell_type": "markdown",
      "source": [
        "#17) Narxi oʻrtacha narxdan ikki barobar yuqori boʻlgan mahsulotlarni toping."
      ],
      "metadata": {
        "id": "VIQ4pT7WTIRl"
      }
    },
    {
      "cell_type": "code",
      "source": [
        "#javobni shu yerda yozing\n",
        "mean_price = df['price'].mean()\n",
        "expensive_items = df[df['price'] > 2* mean_price]['item'].unique()\n",
        "print(expensive_items)"
      ],
      "metadata": {
        "id": "njavH8XtTYR2",
        "colab": {
          "base_uri": "https://localhost:8080/"
        },
        "outputId": "a85e0767-09fa-416f-f157-9fc08571fac6"
      },
      "execution_count": 78,
      "outputs": [
        {
          "output_type": "stream",
          "name": "stdout",
          "text": [
            "['grilled chicken' 'salmon' 'unknown' 'vegetarian platter' 'steak']\n"
          ]
        }
      ]
    },
    {
      "cell_type": "markdown",
      "source": [
        "#18) Mahsulotlar kategoriyalari bo‘yicha tahlil qiling va eng ko‘p sotiladigan kategoriyalarni aniqlang."
      ],
      "metadata": {
        "id": "oNKPJK0rTa2b"
      }
    },
    {
      "cell_type": "code",
      "source": [
        "#javobni shu yerda yozing\n",
        "category_sales = df.groupby('category')['quantity'].sum().sort_values(ascending=False)\n",
        "print(category_sales)"
      ],
      "metadata": {
        "id": "NG2v1wYITlDQ",
        "colab": {
          "base_uri": "https://localhost:8080/"
        },
        "outputId": "ca703318-6525-4ba3-e604-cbb6663d270e"
      },
      "execution_count": 79,
      "outputs": [
        {
          "output_type": "stream",
          "name": "stdout",
          "text": [
            "category\n",
            "main dishes    10622.0\n",
            "starters       10398.0\n",
            "desserts       10327.0\n",
            "drinks         10316.0\n",
            "side dishes    10221.0\n",
            "unknown          100.0\n",
            "Name: quantity, dtype: float64\n"
          ]
        }
      ]
    },
    {
      "cell_type": "markdown",
      "source": [
        "#19) Har bir mijozning oʻrtacha xarid miqdorini (`groupby(\"customer_id\")`) hisoblang."
      ],
      "metadata": {
        "id": "1dvT1qFjTm5J"
      }
    },
    {
      "cell_type": "code",
      "source": [
        "#javobni shu yerda yozing\n",
        "avg_quantity_per_customer = df.groupby('customer_id')['quantity'].mean()\n",
        "print(avg_quantity_per_customer.head())"
      ],
      "metadata": {
        "id": "2-IMSwaJT1hr",
        "colab": {
          "base_uri": "https://localhost:8080/"
        },
        "outputId": "549608ce-f5c7-4dda-e72b-ce2ad52eda78"
      },
      "execution_count": 81,
      "outputs": [
        {
          "output_type": "stream",
          "name": "stdout",
          "text": [
            "customer_id\n",
            "CUST_001    2.910112\n",
            "CUST_002    3.056497\n",
            "CUST_003    2.871166\n",
            "CUST_004    2.988506\n",
            "CUST_005    2.867089\n",
            "Name: quantity, dtype: float64\n"
          ]
        }
      ]
    },
    {
      "cell_type": "markdown",
      "source": [
        "#20) Qanday omillar sotuv hajmiga ta’sir qiladi? Bu bo‘yicha umumiy xulosa chiqaring. Javobni quyida kommentariya sifatida yozing!"
      ],
      "metadata": {
        "id": "zkJ-osPCT3xb"
      }
    },
    {
      "cell_type": "code",
      "source": [
        "#javobni shu yerda yozing\n",
        "# Buyurtma vaqti:\n",
        "#Kunning ma'lum paytlarida (masalan,tushlik va kechki ovqat payti) buyurtmalar ortgan\n",
        "#Hafta kunlaribo'yicha tahlilda yakshanba va jum'a kunlari eng ko'p savdo bo'lgan\n",
        "#Bayram oldi, va yoz oylarida savdo oshgan\n",
        "#Sotuv hajmiga ta'sir qiluvchi omillar:\n",
        "#Mahsulot kategoriyasi:ba'zilari ko'proq sotiladi, masalan ichimliklar va shirinliklar narxi kichikligi tufayli ko'p sotilagan\n",
        "#Narx:O'rtacha qimmat mahsulotlar eng ko'p sotilgan\n",
        "#Mijozlar soni va ularning xarid miqdori\n",
        "#Xarid kunlari va vaqti:bayram kunlari yoki dam olish kunlari xaridlar oshadi\n",
        "#To'lov usuli: qulay to'lov usullari xaridni oshirishi mumkin\n",
        "#Ko'p buyurtma qilingan mahsulotlar ko'pincha arzon va oddiy mahsulotlar(suv, qahva)\n",
        "# Xulosa:\n",
        "#Sotuv hajmiga eng ko‘p ta’sir qiluvchi omillar: vaqt (kun va soat), mahsulot turi, narx, mijoz faolligi, va to‘lov turi hisoblanadi.\n",
        "# Shu omillarni hisobga olib, marketing strategiyasi, menyu narxlari va mijozlar segmentatsiyasini optimallashtirish mumkin."
      ],
      "metadata": {
        "id": "kFqweyJDUDVp"
      },
      "execution_count": null,
      "outputs": []
    }
  ]
}