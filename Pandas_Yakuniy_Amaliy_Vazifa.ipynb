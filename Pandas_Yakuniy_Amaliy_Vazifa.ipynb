{
  "nbformat": 4,
  "nbformat_minor": 0,
  "metadata": {
    "colab": {
      "provenance": [],
      "include_colab_link": true
    },
    "kernelspec": {
      "name": "python3",
      "display_name": "Python 3"
    },
    "language_info": {
      "name": "python"
    }
  },
  "cells": [
    {
      "cell_type": "markdown",
      "metadata": {
        "id": "view-in-github",
        "colab_type": "text"
      },
      "source": [
        "<a href=\"https://colab.research.google.com/github/koztigrkentavr/kalkulyator/blob/main/Pandas_Yakuniy_Amaliy_Vazifa.ipynb\" target=\"_parent\"><img src=\"https://colab.research.google.com/assets/colab-badge.svg\" alt=\"Open In Colab\"/></a>"
      ]
    },
    {
      "cell_type": "markdown",
      "source": [
        "# Pandas kutubxonasiga doir bilimlaringizni mustaxkamlash uchun mashqlar!\n",
        "\n",
        "Hurmatli o'quvchi, bilimingizni yanada mustaxkamlashingiz va chuqurroq ko'nikmalarga ega bo'lishingiz uchun sizga topshiriqlar tayyorladik. Sizga yengillik yaratish maqsadida topshiriqlarni `📌Mavzulashtirdik`"
      ],
      "metadata": {
        "id": "k-wg58lT3IuO"
      }
    },
    {
      "cell_type": "markdown",
      "source": [
        "## `📌Pandas kutubxonasini yuklash`\n",
        "\n",
        "**1.** Pandas kutubxonasini `pd` nomi ostida yuklang va pandas kutubxonasini chop eting."
      ],
      "metadata": {
        "id": "loNFiQaN5ON7"
      }
    },
    {
      "cell_type": "code",
      "execution_count": 1,
      "metadata": {
        "id": "KlhL3wXO2KwW"
      },
      "outputs": [],
      "source": [
        "import pandas as pd"
      ]
    },
    {
      "cell_type": "markdown",
      "source": [
        "**2.** Versiya va konfiguratsiyani tekshiring."
      ],
      "metadata": {
        "id": "7sdF8P3i6Mjn"
      }
    },
    {
      "cell_type": "code",
      "source": [
        "pd.__version__"
      ],
      "metadata": {
        "id": "G_HPA6Uz6XKH",
        "colab": {
          "base_uri": "https://localhost:8080/",
          "height": 38
        },
        "outputId": "7fc72abb-b2c6-4e1e-d373-4b36aaa92f2e"
      },
      "execution_count": 2,
      "outputs": [
        {
          "output_type": "execute_result",
          "data": {
            "text/plain": [
              "'2.2.2'"
            ],
            "application/vnd.google.colaboratory.intrinsic+json": {
              "type": "string"
            }
          },
          "metadata": {},
          "execution_count": 2
        }
      ]
    },
    {
      "cell_type": "code",
      "source": [
        "print(pd.__version__)"
      ],
      "metadata": {
        "colab": {
          "base_uri": "https://localhost:8080/"
        },
        "id": "XvdZ75AXCmgi",
        "outputId": "cc4b197b-51ed-48f6-ba8f-93e96025a1ad"
      },
      "execution_count": 3,
      "outputs": [
        {
          "output_type": "stream",
          "name": "stdout",
          "text": [
            "2.2.2\n"
          ]
        }
      ]
    },
    {
      "cell_type": "markdown",
      "source": [
        "**3.** Pandas kutubxonasida mavjud bo'lgan barcha versiya ma'lumotlarini chop eting."
      ],
      "metadata": {
        "id": "KUw4Ju9H6jeA"
      }
    },
    {
      "cell_type": "code",
      "source": [
        "pd.show_versions()"
      ],
      "metadata": {
        "id": "zSxaU78l6y5R",
        "colab": {
          "base_uri": "https://localhost:8080/"
        },
        "outputId": "333599e3-8e6c-4618-c391-728f23268eaa"
      },
      "execution_count": 5,
      "outputs": [
        {
          "output_type": "stream",
          "name": "stderr",
          "text": [
            "/usr/local/lib/python3.11/dist-packages/_distutils_hack/__init__.py:31: UserWarning: Setuptools is replacing distutils. Support for replacing an already imported distutils is deprecated. In the future, this condition will fail. Register concerns at https://github.com/pypa/setuptools/issues/new?template=distutils-deprecation.yml\n",
            "  warnings.warn(\n"
          ]
        },
        {
          "output_type": "stream",
          "name": "stdout",
          "text": [
            "\n",
            "INSTALLED VERSIONS\n",
            "------------------\n",
            "commit                : d9cdd2ee5a58015ef6f4d15c7226110c9aab8140\n",
            "python                : 3.11.12.final.0\n",
            "python-bits           : 64\n",
            "OS                    : Linux\n",
            "OS-release            : 6.1.123+\n",
            "Version               : #1 SMP PREEMPT_DYNAMIC Sun Mar 30 16:01:29 UTC 2025\n",
            "machine               : x86_64\n",
            "processor             : x86_64\n",
            "byteorder             : little\n",
            "LC_ALL                : en_US.UTF-8\n",
            "LANG                  : en_US.UTF-8\n",
            "LOCALE                : en_US.UTF-8\n",
            "\n",
            "pandas                : 2.2.2\n",
            "numpy                 : 2.0.2\n",
            "pytz                  : 2025.2\n",
            "dateutil              : 2.9.0.post0\n",
            "setuptools            : 75.2.0\n",
            "pip                   : 24.1.2\n",
            "Cython                : 3.0.12\n",
            "pytest                : 8.3.5\n",
            "hypothesis            : None\n",
            "sphinx                : 8.2.3\n",
            "blosc                 : None\n",
            "feather               : None\n",
            "xlsxwriter            : None\n",
            "lxml.etree            : 5.4.0\n",
            "html5lib              : 1.1\n",
            "pymysql               : None\n",
            "psycopg2              : 2.9.10\n",
            "jinja2                : 3.1.6\n",
            "IPython               : 7.34.0\n",
            "pandas_datareader     : 0.10.0\n",
            "adbc-driver-postgresql: None\n",
            "adbc-driver-sqlite    : None\n",
            "bs4                   : 4.13.4\n",
            "bottleneck            : 1.4.2\n",
            "dataframe-api-compat  : None\n",
            "fastparquet           : None\n",
            "fsspec                : 2025.3.2\n",
            "gcsfs                 : 2025.3.2\n",
            "matplotlib            : 3.10.0\n",
            "numba                 : 0.60.0\n",
            "numexpr               : 2.10.2\n",
            "odfpy                 : None\n",
            "openpyxl              : 3.1.5\n",
            "pandas_gbq            : 0.28.1\n",
            "pyarrow               : 18.1.0\n",
            "pyreadstat            : None\n",
            "python-calamine       : None\n",
            "pyxlsb                : None\n",
            "s3fs                  : None\n",
            "scipy                 : 1.15.3\n",
            "sqlalchemy            : 2.0.40\n",
            "tables                : 3.10.2\n",
            "tabulate              : 0.9.0\n",
            "xarray                : 2025.3.1\n",
            "xlrd                  : 2.0.1\n",
            "zstandard             : 0.23.0\n",
            "tzdata                : 2025.2\n",
            "qtpy                  : None\n",
            "pyqt5                 : None\n"
          ]
        }
      ]
    },
    {
      "cell_type": "code",
      "source": [
        "pd.describe_option()"
      ],
      "metadata": {
        "colab": {
          "base_uri": "https://localhost:8080/"
        },
        "id": "N9vXRC5eD4Qq",
        "outputId": "90e36ad3-d04b-4960-96e5-32f9f0fc3148"
      },
      "execution_count": 6,
      "outputs": [
        {
          "output_type": "stream",
          "name": "stdout",
          "text": [
            "compute.use_bottleneck : bool\n",
            "    Use the bottleneck library to accelerate if it is installed,\n",
            "    the default is True\n",
            "    Valid values: False,True\n",
            "    [default: True] [currently: True]\n",
            "compute.use_numba : bool\n",
            "    Use the numba engine option for select operations if it is installed,\n",
            "    the default is False\n",
            "    Valid values: False,True\n",
            "    [default: False] [currently: False]\n",
            "compute.use_numexpr : bool\n",
            "    Use the numexpr library to accelerate computation if it is installed,\n",
            "    the default is True\n",
            "    Valid values: False,True\n",
            "    [default: True] [currently: True]\n",
            "display.chop_threshold : float or None\n",
            "    if set to a float value, all float values smaller than the given threshold\n",
            "    will be displayed as exactly 0 by repr and friends.\n",
            "    [default: None] [currently: None]\n",
            "display.colheader_justify : 'left'/'right'\n",
            "    Controls the justification of column headers. used by DataFrameFormatter.\n",
            "    [default: right] [currently: right]\n",
            "display.date_dayfirst : boolean\n",
            "    When True, prints and parses dates with the day first, eg 20/01/2005\n",
            "    [default: False] [currently: False]\n",
            "display.date_yearfirst : boolean\n",
            "    When True, prints and parses dates with the year first, eg 2005/01/20\n",
            "    [default: False] [currently: False]\n",
            "display.encoding : str/unicode\n",
            "    Defaults to the detected encoding of the console.\n",
            "    Specifies the encoding to be used for strings returned by to_string,\n",
            "    these are generally strings meant to be displayed on the console.\n",
            "    [default: UTF-8] [currently: UTF-8]\n",
            "display.expand_frame_repr : boolean\n",
            "    Whether to print out the full DataFrame repr for wide DataFrames across\n",
            "    multiple lines, `max_columns` is still respected, but the output will\n",
            "    wrap-around across multiple \"pages\" if its width exceeds `display.width`.\n",
            "    [default: True] [currently: True]\n",
            "display.float_format : callable\n",
            "    The callable should accept a floating point number and return\n",
            "    a string with the desired format of the number. This is used\n",
            "    in some places like SeriesFormatter.\n",
            "    See formats.format.EngFormatter for an example.\n",
            "    [default: None] [currently: None]\n",
            "display.html.border : int\n",
            "    A ``border=value`` attribute is inserted in the ``<table>`` tag\n",
            "    for the DataFrame HTML repr.\n",
            "    [default: 1] [currently: 1]\n",
            "display.html.table_schema : boolean\n",
            "    Whether to publish a Table Schema representation for frontends\n",
            "    that support it.\n",
            "    (default: False)\n",
            "    [default: False] [currently: False]\n",
            "display.html.use_mathjax : boolean\n",
            "    When True, Jupyter notebook will process table contents using MathJax,\n",
            "    rendering mathematical expressions enclosed by the dollar symbol.\n",
            "    (default: True)\n",
            "    [default: True] [currently: True]\n",
            "display.large_repr : 'truncate'/'info'\n",
            "    For DataFrames exceeding max_rows/max_cols, the repr (and HTML repr) can\n",
            "    show a truncated table, or switch to the view from\n",
            "    df.info() (the behaviour in earlier versions of pandas).\n",
            "    [default: truncate] [currently: truncate]\n",
            "display.max_categories : int\n",
            "    This sets the maximum number of categories pandas should output when\n",
            "    printing out a `Categorical` or a Series of dtype \"category\".\n",
            "    [default: 8] [currently: 8]\n",
            "display.max_columns : int\n",
            "    If max_cols is exceeded, switch to truncate view. Depending on\n",
            "    `large_repr`, objects are either centrally truncated or printed as\n",
            "    a summary view. 'None' value means unlimited.\n",
            "\n",
            "    In case python/IPython is running in a terminal and `large_repr`\n",
            "    equals 'truncate' this can be set to 0 or None and pandas will auto-detect\n",
            "    the width of the terminal and print a truncated object which fits\n",
            "    the screen width. The IPython notebook, IPython qtconsole, or IDLE\n",
            "    do not run in a terminal and hence it is not possible to do\n",
            "    correct auto-detection and defaults to 20.\n",
            "    [default: 20] [currently: 20]\n",
            "display.max_colwidth : int or None\n",
            "    The maximum width in characters of a column in the repr of\n",
            "    a pandas data structure. When the column overflows, a \"...\"\n",
            "    placeholder is embedded in the output. A 'None' value means unlimited.\n",
            "    [default: 50] [currently: 50]\n",
            "display.max_dir_items : int\n",
            "    The number of items that will be added to `dir(...)`. 'None' value means\n",
            "    unlimited. Because dir is cached, changing this option will not immediately\n",
            "    affect already existing dataframes until a column is deleted or added.\n",
            "\n",
            "    This is for instance used to suggest columns from a dataframe to tab\n",
            "    completion.\n",
            "    [default: 100] [currently: 100]\n",
            "display.max_info_columns : int\n",
            "    max_info_columns is used in DataFrame.info method to decide if\n",
            "    per column information will be printed.\n",
            "    [default: 100] [currently: 100]\n",
            "display.max_info_rows : int\n",
            "    df.info() will usually show null-counts for each column.\n",
            "    For large frames this can be quite slow. max_info_rows and max_info_cols\n",
            "    limit this null check only to frames with smaller dimensions than\n",
            "    specified.\n",
            "    [default: 1690785] [currently: 1690785]\n",
            "display.max_rows : int\n",
            "    If max_rows is exceeded, switch to truncate view. Depending on\n",
            "    `large_repr`, objects are either centrally truncated or printed as\n",
            "    a summary view. 'None' value means unlimited.\n",
            "\n",
            "    In case python/IPython is running in a terminal and `large_repr`\n",
            "    equals 'truncate' this can be set to 0 and pandas will auto-detect\n",
            "    the height of the terminal and print a truncated object which fits\n",
            "    the screen height. The IPython notebook, IPython qtconsole, or\n",
            "    IDLE do not run in a terminal and hence it is not possible to do\n",
            "    correct auto-detection.\n",
            "    [default: 60] [currently: 60]\n",
            "display.max_seq_items : int or None\n",
            "    When pretty-printing a long sequence, no more then `max_seq_items`\n",
            "    will be printed. If items are omitted, they will be denoted by the\n",
            "    addition of \"...\" to the resulting string.\n",
            "\n",
            "    If set to None, the number of items to be printed is unlimited.\n",
            "    [default: 100] [currently: 100]\n",
            "display.memory_usage : bool, string or None\n",
            "    This specifies if the memory usage of a DataFrame should be displayed when\n",
            "    df.info() is called. Valid values True,False,'deep'\n",
            "    [default: True] [currently: True]\n",
            "display.min_rows : int\n",
            "    The numbers of rows to show in a truncated view (when `max_rows` is\n",
            "    exceeded). Ignored when `max_rows` is set to None or 0. When set to\n",
            "    None, follows the value of `max_rows`.\n",
            "    [default: 10] [currently: 10]\n",
            "display.multi_sparse : boolean\n",
            "    \"sparsify\" MultiIndex display (don't display repeated\n",
            "    elements in outer levels within groups)\n",
            "    [default: True] [currently: True]\n",
            "display.notebook_repr_html : boolean\n",
            "    When True, IPython notebook will use html representation for\n",
            "    pandas objects (if it is available).\n",
            "    [default: True] [currently: True]\n",
            "display.pprint_nest_depth : int\n",
            "    Controls the number of nested levels to process when pretty-printing\n",
            "    [default: 3] [currently: 3]\n",
            "display.precision : int\n",
            "    Floating point output precision in terms of number of places after the\n",
            "    decimal, for regular formatting as well as scientific notation. Similar\n",
            "    to ``precision`` in :meth:`numpy.set_printoptions`.\n",
            "    [default: 6] [currently: 6]\n",
            "display.show_dimensions : boolean or 'truncate'\n",
            "    Whether to print out dimensions at the end of DataFrame repr.\n",
            "    If 'truncate' is specified, only print out the dimensions if the\n",
            "    frame is truncated (e.g. not display all rows and/or columns)\n",
            "    [default: truncate] [currently: truncate]\n",
            "display.unicode.ambiguous_as_wide : boolean\n",
            "    Whether to use the Unicode East Asian Width to calculate the display text\n",
            "    width.\n",
            "    Enabling this may affect to the performance (default: False)\n",
            "    [default: False] [currently: False]\n",
            "display.unicode.east_asian_width : boolean\n",
            "    Whether to use the Unicode East Asian Width to calculate the display text\n",
            "    width.\n",
            "    Enabling this may affect to the performance (default: False)\n",
            "    [default: False] [currently: False]\n",
            "display.width : int\n",
            "    Width of the display in characters. In case python/IPython is running in\n",
            "    a terminal this can be set to None and pandas will correctly auto-detect\n",
            "    the width.\n",
            "    Note that the IPython notebook, IPython qtconsole, or IDLE do not run in a\n",
            "    terminal and hence it is not possible to correctly detect the width.\n",
            "    [default: 80] [currently: 80]\n",
            "future.infer_string Whether to infer sequence of str objects as pyarrow string dtype, which will be the default in pandas 3.0 (at which point this option will be deprecated).\n",
            "    [default: False] [currently: False]\n",
            "future.no_silent_downcasting Whether to opt-in to the future behavior which will *not* silently downcast results from Series and DataFrame `where`, `mask`, and `clip` methods. Silent downcasting will be removed in pandas 3.0 (at which point this option will be deprecated).\n",
            "    [default: False] [currently: False]\n",
            "io.excel.ods.reader : string\n",
            "    The default Excel reader engine for 'ods' files. Available options:\n",
            "    auto, odf, calamine.\n",
            "    [default: auto] [currently: auto]\n",
            "io.excel.ods.writer : string\n",
            "    The default Excel writer engine for 'ods' files. Available options:\n",
            "    auto, odf.\n",
            "    [default: auto] [currently: auto]\n",
            "io.excel.xls.reader : string\n",
            "    The default Excel reader engine for 'xls' files. Available options:\n",
            "    auto, xlrd, calamine.\n",
            "    [default: auto] [currently: auto]\n",
            "io.excel.xlsb.reader : string\n",
            "    The default Excel reader engine for 'xlsb' files. Available options:\n",
            "    auto, pyxlsb, calamine.\n",
            "    [default: auto] [currently: auto]\n",
            "io.excel.xlsm.reader : string\n",
            "    The default Excel reader engine for 'xlsm' files. Available options:\n",
            "    auto, xlrd, openpyxl, calamine.\n",
            "    [default: auto] [currently: auto]\n",
            "io.excel.xlsm.writer : string\n",
            "    The default Excel writer engine for 'xlsm' files. Available options:\n",
            "    auto, openpyxl.\n",
            "    [default: auto] [currently: auto]\n",
            "io.excel.xlsx.reader : string\n",
            "    The default Excel reader engine for 'xlsx' files. Available options:\n",
            "    auto, xlrd, openpyxl, calamine.\n",
            "    [default: auto] [currently: auto]\n",
            "io.excel.xlsx.writer : string\n",
            "    The default Excel writer engine for 'xlsx' files. Available options:\n",
            "    auto, openpyxl, xlsxwriter.\n",
            "    [default: auto] [currently: auto]\n",
            "io.hdf.default_format : format\n",
            "    default format writing format, if None, then\n",
            "    put will default to 'fixed' and append will default to 'table'\n",
            "    [default: None] [currently: None]\n",
            "io.hdf.dropna_table : boolean\n",
            "    drop ALL nan rows when appending to a table\n",
            "    [default: False] [currently: False]\n",
            "io.parquet.engine : string\n",
            "    The default parquet reader/writer engine. Available options:\n",
            "    'auto', 'pyarrow', 'fastparquet', the default is 'auto'\n",
            "    [default: auto] [currently: auto]\n",
            "io.sql.engine : string\n",
            "    The default sql reader/writer engine. Available options:\n",
            "    'auto', 'sqlalchemy', the default is 'auto'\n",
            "    [default: auto] [currently: auto]\n",
            "mode.chained_assignment : string\n",
            "    Raise an exception, warn, or no action if trying to use chained assignment,\n",
            "    The default is warn\n",
            "    [default: warn] [currently: warn]\n",
            "mode.copy_on_write : bool\n",
            "    Use new copy-view behaviour using Copy-on-Write. Defaults to False,\n",
            "    unless overridden by the 'PANDAS_COPY_ON_WRITE' environment variable\n",
            "    (if set to \"1\" for True, needs to be set before pandas is imported).\n",
            "    [default: False] [currently: False]\n",
            "mode.data_manager : string\n",
            "    Internal data manager type; can be \"block\" or \"array\". Defaults to \"block\",\n",
            "    unless overridden by the 'PANDAS_DATA_MANAGER' environment variable (needs\n",
            "    to be set before pandas is imported).\n",
            "    [default: block] [currently: block]\n",
            "    (Deprecated, use `` instead.)\n",
            "mode.sim_interactive : boolean\n",
            "    Whether to simulate interactive mode for purposes of testing\n",
            "    [default: False] [currently: False]\n",
            "mode.string_storage : string\n",
            "    The default storage for StringDtype. This option is ignored if\n",
            "    ``future.infer_string`` is set to True.\n",
            "    [default: python] [currently: python]\n",
            "mode.use_inf_as_na : boolean\n",
            "    True means treat None, NaN, INF, -INF as NA (old way),\n",
            "    False means None and NaN are null, but INF, -INF are not NA\n",
            "    (new way).\n",
            "\n",
            "    This option is deprecated in pandas 2.1.0 and will be removed in 3.0.\n",
            "    [default: False] [currently: False]\n",
            "    (Deprecated, use `` instead.)\n",
            "plotting.backend : str\n",
            "    The plotting backend to use. The default value is \"matplotlib\", the\n",
            "    backend provided with pandas. Other backends can be specified by\n",
            "    providing the name of the module that implements the backend.\n",
            "    [default: matplotlib] [currently: matplotlib]\n",
            "plotting.matplotlib.register_converters : bool or 'auto'.\n",
            "    Whether to register converters with matplotlib's units registry for\n",
            "    dates, times, datetimes, and Periods. Toggling to False will remove\n",
            "    the converters, restoring any converters that pandas overwrote.\n",
            "    [default: auto] [currently: auto]\n",
            "styler.format.decimal : str\n",
            "    The character representation for the decimal separator for floats and complex.\n",
            "    [default: .] [currently: .]\n",
            "styler.format.escape : str, optional\n",
            "    Whether to escape certain characters according to the given context; html or latex.\n",
            "    [default: None] [currently: None]\n",
            "styler.format.formatter : str, callable, dict, optional\n",
            "    A formatter object to be used as default within ``Styler.format``.\n",
            "    [default: None] [currently: None]\n",
            "styler.format.na_rep : str, optional\n",
            "    The string representation for values identified as missing.\n",
            "    [default: None] [currently: None]\n",
            "styler.format.precision : int\n",
            "    The precision for floats and complex numbers.\n",
            "    [default: 6] [currently: 6]\n",
            "styler.format.thousands : str, optional\n",
            "    The character representation for thousands separator for floats, int and complex.\n",
            "    [default: None] [currently: None]\n",
            "styler.html.mathjax : bool\n",
            "    If False will render special CSS classes to table attributes that indicate Mathjax\n",
            "    will not be used in Jupyter Notebook.\n",
            "    [default: True] [currently: True]\n",
            "styler.latex.environment : str\n",
            "    The environment to replace ``\\begin{table}``. If \"longtable\" is used results\n",
            "    in a specific longtable environment format.\n",
            "    [default: None] [currently: None]\n",
            "styler.latex.hrules : bool\n",
            "    Whether to add horizontal rules on top and bottom and below the headers.\n",
            "    [default: False] [currently: False]\n",
            "styler.latex.multicol_align : {\"r\", \"c\", \"l\", \"naive-l\", \"naive-r\"}\n",
            "    The specifier for horizontal alignment of sparsified LaTeX multicolumns. Pipe\n",
            "    decorators can also be added to non-naive values to draw vertical\n",
            "    rules, e.g. \"\\|r\" will draw a rule on the left side of right aligned merged cells.\n",
            "    [default: r] [currently: r]\n",
            "styler.latex.multirow_align : {\"c\", \"t\", \"b\"}\n",
            "    The specifier for vertical alignment of sparsified LaTeX multirows.\n",
            "    [default: c] [currently: c]\n",
            "styler.render.encoding : str\n",
            "    The encoding used for output HTML and LaTeX files.\n",
            "    [default: utf-8] [currently: utf-8]\n",
            "styler.render.max_columns : int, optional\n",
            "    The maximum number of columns that will be rendered. May still be reduced to\n",
            "    satisfy ``max_elements``, which takes precedence.\n",
            "    [default: None] [currently: None]\n",
            "styler.render.max_elements : int\n",
            "    The maximum number of data-cell (<td>) elements that will be rendered before\n",
            "    trimming will occur over columns, rows or both if needed.\n",
            "    [default: 262144] [currently: 262144]\n",
            "styler.render.max_rows : int, optional\n",
            "    The maximum number of rows that will be rendered. May still be reduced to\n",
            "    satisfy ``max_elements``, which takes precedence.\n",
            "    [default: None] [currently: None]\n",
            "styler.render.repr : str\n",
            "    Determine which output to use in Jupyter Notebook in {\"html\", \"latex\"}.\n",
            "    [default: html] [currently: html]\n",
            "styler.sparse.columns : bool\n",
            "    Whether to sparsify the display of hierarchical columns. Setting to False will\n",
            "    display each explicit level element in a hierarchical key for each column.\n",
            "    [default: True] [currently: True]\n",
            "styler.sparse.index : bool\n",
            "    Whether to sparsify the display of a hierarchical index. Setting to False will\n",
            "    display each explicit level element in a hierarchical key for each row.\n",
            "    [default: True] [currently: True]\n"
          ]
        }
      ]
    },
    {
      "cell_type": "markdown",
      "source": [
        "## `📌DataFrame: Asoslar`\n",
        "\n",
        "DataFrames-da ma'lumotlarni tanlash(selecting), saralash(sorting), qo'shish(adding) va yig'ish(aggregating) uchun bir nechta asosiy mashqlar.\n",
        "\n",
        "💡Eslatma: NumPy kutubxonasini import qilishni unutmang:\n",
        "``` python\n",
        "import numpy as np\n",
        "```\n",
        "\n",
        "Quyidagi Python lug'ati(dictionary) `data` va Python ro'yxati(list) `labels` ni ko'rib chiqing:\n",
        "\n",
        "\n",
        "``` python\n",
        "data = {'animal': ['cat', 'cat', 'snake', 'dog', 'dog', 'cat', 'snake', 'cat', 'dog', 'dog'],\n",
        "        'age': [2.5, 3, 0.5, np.nan, 5, 2, 4.5, np.nan, 7, 3],\n",
        "        'visits': [1, 3, 2, 3, 2, 3, 1, 1, 2, 1],\n",
        "        'priority': ['yes', 'yes', 'no', 'yes', 'no', 'no', 'no', 'yes', 'no', 'no']}\n",
        "\n",
        "labels = ['a', 'b', 'c', 'd', 'e', 'f', 'g', 'h', 'i', 'j']\n",
        "```\n",
        "\n"
      ],
      "metadata": {
        "id": "FE1WM5tv7IAW"
      }
    },
    {
      "cell_type": "code",
      "source": [
        "import numpy as np"
      ],
      "metadata": {
        "id": "Ew5U-HsGtlSP"
      },
      "execution_count": 7,
      "outputs": []
    },
    {
      "cell_type": "code",
      "source": [
        "data = {'animal': ['cat','cat','snake','dog','dog','cat','snake','cat','dog','dog'],\n",
        "        'age': [2.5, 3, 0.5,np.nan,5,2,4.5,np.nan,7,3],\n",
        "        'visits': [1,3,2,3,2,3,1,1,2,1],\n",
        "        'priority':['yes','yes','no','yes','no','no','no','yes','no','no']}\n",
        "labels = ['a','b','c','d','e','f','g','h','i','j']"
      ],
      "metadata": {
        "id": "fSbVfMTprBRo"
      },
      "execution_count": 9,
      "outputs": []
    },
    {
      "cell_type": "markdown",
      "source": [
        "**4.** Ushbu `lug'at`(dictionary) yordamida `data` dan `labels` indeksiga ega DataFrame yarating."
      ],
      "metadata": {
        "id": "I-sQqjsEWqH8"
      }
    },
    {
      "cell_type": "code",
      "source": [
        "import numpy as np\n",
        "\n",
        "data = {'animal': ['cat', 'cat', 'snake', 'dog', 'dog', 'cat', 'snake', 'cat', 'dog', 'dog'],\n",
        "        'age': [2.5, 3, 0.5, np.nan, 5, 2, 4.5, np.nan, 7, 3],\n",
        "        'visits': [1, 3, 2, 3, 2, 3, 1, 1, 2, 1],\n",
        "        'priority': ['yes', 'yes', 'no', 'yes', 'no', 'no', 'no', 'yes', 'no', 'no']}\n",
        "\n",
        "labels = ['a', 'b', 'c', 'd', 'e', 'f', 'g', 'h', 'i', 'j']\n",
        "\n",
        "df = pd.DataFrame(data,index=labels)"
      ],
      "metadata": {
        "id": "qAyjNW-TYj_O"
      },
      "execution_count": 10,
      "outputs": []
    },
    {
      "cell_type": "code",
      "source": [
        "print(df)"
      ],
      "metadata": {
        "colab": {
          "base_uri": "https://localhost:8080/"
        },
        "id": "JlAZb5lNIRWV",
        "outputId": "8412c005-3ff2-4c51-d0a6-b607db1c89d8"
      },
      "execution_count": 11,
      "outputs": [
        {
          "output_type": "stream",
          "name": "stdout",
          "text": [
            "  animal  age  visits priority\n",
            "a    cat  2.5       1      yes\n",
            "b    cat  3.0       3      yes\n",
            "c  snake  0.5       2       no\n",
            "d    dog  NaN       3      yes\n",
            "e    dog  5.0       2       no\n",
            "f    cat  2.0       3       no\n",
            "g  snake  4.5       1       no\n",
            "h    cat  NaN       1      yes\n",
            "i    dog  7.0       2       no\n",
            "j    dog  3.0       1       no\n"
          ]
        }
      ]
    },
    {
      "cell_type": "code",
      "source": [],
      "metadata": {
        "id": "YY9TRcpHIY-l"
      },
      "execution_count": null,
      "outputs": []
    },
    {
      "cell_type": "markdown",
      "source": [
        "**5.** Ushbu DataFrame va uning ma'lumotlari haqidagi asosiy ma'lumotlarning qisqacha mazmunini ko'rsating.\n",
        "\n",
        "`💡Ishora:` DataFrame-da chaqirilishi mumkin bo'lgan yagona usul mavjud."
      ],
      "metadata": {
        "id": "qqkr6CnUYuDA"
      }
    },
    {
      "cell_type": "code",
      "source": [
        "print(\"DataFrame haqida qisqacha ma'lumotlar:\")\n",
        "print(df.info())"
      ],
      "metadata": {
        "id": "-FybHrHst7tF",
        "colab": {
          "base_uri": "https://localhost:8080/"
        },
        "outputId": "419eb3f9-01ea-45a5-8d0e-cfde8ac2d4af"
      },
      "execution_count": 13,
      "outputs": [
        {
          "output_type": "stream",
          "name": "stdout",
          "text": [
            "DataFrame haqida qisqacha ma'lumotlar:\n",
            "<class 'pandas.core.frame.DataFrame'>\n",
            "Index: 10 entries, a to j\n",
            "Data columns (total 4 columns):\n",
            " #   Column    Non-Null Count  Dtype  \n",
            "---  ------    --------------  -----  \n",
            " 0   animal    10 non-null     object \n",
            " 1   age       8 non-null      float64\n",
            " 2   visits    10 non-null     int64  \n",
            " 3   priority  10 non-null     object \n",
            "dtypes: float64(1), int64(1), object(2)\n",
            "memory usage: 700.0+ bytes\n",
            "None\n"
          ]
        }
      ]
    },
    {
      "cell_type": "markdown",
      "source": [
        "**6.** DataFrame `df` dastlabki 3 qatorini qaytaring."
      ],
      "metadata": {
        "id": "ATWpnkdPfLql"
      }
    },
    {
      "cell_type": "code",
      "source": [
        "print(\"\\nDastlabki 3 qator:\")\n",
        "print(df.head(3))"
      ],
      "metadata": {
        "id": "zoc38z_Na2GN",
        "colab": {
          "base_uri": "https://localhost:8080/"
        },
        "outputId": "1fe40e41-d9cf-4967-fc5a-f5d9c170e87d"
      },
      "execution_count": 14,
      "outputs": [
        {
          "output_type": "stream",
          "name": "stdout",
          "text": [
            "\n",
            "Dastlabki 3 qator:\n",
            "  animal  age  visits priority\n",
            "a    cat  2.5       1      yes\n",
            "b    cat  3.0       3      yes\n",
            "c  snake  0.5       2       no\n"
          ]
        }
      ]
    },
    {
      "cell_type": "markdown",
      "source": [
        "**7.** DataFrame `df`-dan faqat `animal` va `age` ustunlarini tanlang."
      ],
      "metadata": {
        "id": "AOBlGGnBXjME"
      }
    },
    {
      "cell_type": "code",
      "source": [
        "print(\"\\n'animal' va 'age' ustunlari:\")\n",
        "print(df[['animal', 'age']])"
      ],
      "metadata": {
        "id": "mhXMdjqC9_u6",
        "colab": {
          "base_uri": "https://localhost:8080/"
        },
        "outputId": "ad33a9d9-2d5f-42e7-be32-52e2f8224e88"
      },
      "execution_count": 16,
      "outputs": [
        {
          "output_type": "stream",
          "name": "stdout",
          "text": [
            "\n",
            "'animal' va 'age' ustunlari:\n",
            "  animal  age\n",
            "a    cat  2.5\n",
            "b    cat  3.0\n",
            "c  snake  0.5\n",
            "d    dog  NaN\n",
            "e    dog  5.0\n",
            "f    cat  2.0\n",
            "g  snake  4.5\n",
            "h    cat  NaN\n",
            "i    dog  7.0\n",
            "j    dog  3.0\n"
          ]
        }
      ]
    },
    {
      "cell_type": "markdown",
      "source": [
        "**8.** `[3, 4, 8]` va `['animal', 'age']` qatorlaridagi ma'lumotlarni tanlang."
      ],
      "metadata": {
        "id": "b_ATYbcVbJWR"
      }
    },
    {
      "cell_type": "code",
      "source": [
        "print(df.loc[df.index[[3,4,8]],['animal','age']])"
      ],
      "metadata": {
        "id": "MxaWtISIbEcc",
        "colab": {
          "base_uri": "https://localhost:8080/"
        },
        "outputId": "e197631c-1c9c-4d9c-c978-e5f6ecdef0ae"
      },
      "execution_count": 18,
      "outputs": [
        {
          "output_type": "stream",
          "name": "stdout",
          "text": [
            "  animal  age\n",
            "d    dog  NaN\n",
            "e    dog  5.0\n",
            "i    dog  7.0\n"
          ]
        }
      ]
    },
    {
      "cell_type": "markdown",
      "source": [
        "**9.** Faqat `visits` soni 3 tadan ko'p bo'lgan qatorlarni tanlang."
      ],
      "metadata": {
        "id": "WuCD7tPqcU3c"
      }
    },
    {
      "cell_type": "code",
      "source": [
        "print(df[df['visits'] > 3])"
      ],
      "metadata": {
        "id": "NsbE4IXtclPm",
        "colab": {
          "base_uri": "https://localhost:8080/"
        },
        "outputId": "61cc04d9-f7d6-47f1-c7e0-83f543eb8e0a"
      },
      "execution_count": 20,
      "outputs": [
        {
          "output_type": "stream",
          "name": "stdout",
          "text": [
            "Empty DataFrame\n",
            "Columns: [animal, age, visits, priority]\n",
            "Index: []\n"
          ]
        }
      ]
    },
    {
      "cell_type": "markdown",
      "source": [
        "10. Yosh yo'qolgan qatorlarni tanlang, ya'ni `NaN`"
      ],
      "metadata": {
        "id": "I5JR1484dM9m"
      }
    },
    {
      "cell_type": "code",
      "source": [
        "print(df[df['age'].isna()])"
      ],
      "metadata": {
        "id": "ljI_0EpidMRV",
        "colab": {
          "base_uri": "https://localhost:8080/"
        },
        "outputId": "70fb4752-d471-4ed4-ef9c-d6bfcbb1e2d7"
      },
      "execution_count": 22,
      "outputs": [
        {
          "output_type": "stream",
          "name": "stdout",
          "text": [
            "  animal  age  visits priority\n",
            "d    dog  NaN       3      yes\n",
            "h    cat  NaN       1      yes\n"
          ]
        }
      ]
    },
    {
      "cell_type": "markdown",
      "source": [
        "**11.** `animal` qatoridagi `cat` va `age` qatoridagi `3` dan kichik bo'lgan umumiy qatorlarni tanlang."
      ],
      "metadata": {
        "id": "HiCT4089eVDF"
      }
    },
    {
      "cell_type": "code",
      "source": [
        "print(df[(df['animal'] == 'cat')  & (df['age'] < 3)])"
      ],
      "metadata": {
        "id": "msnPzl_Qe3UT",
        "colab": {
          "base_uri": "https://localhost:8080/"
        },
        "outputId": "b6ecd1f7-9e8a-4263-cbed-5758002ba1b6"
      },
      "execution_count": 24,
      "outputs": [
        {
          "output_type": "stream",
          "name": "stdout",
          "text": [
            "  animal  age  visits priority\n",
            "a    cat  2.5       1      yes\n",
            "f    cat  2.0       3       no\n"
          ]
        }
      ]
    },
    {
      "cell_type": "markdown",
      "source": [
        "**12.** `age` 2 va 4 (shu jumladan) orasidagi qatorlarni tanlang."
      ],
      "metadata": {
        "id": "AKvZAF1ue5DQ"
      }
    },
    {
      "cell_type": "code",
      "source": [
        "#age 2 va 4 orasidagi qatorlar\n",
        "print(df[df['age'].between(2,4)])"
      ],
      "metadata": {
        "id": "eyu9uhEkfHyX",
        "colab": {
          "base_uri": "https://localhost:8080/"
        },
        "outputId": "ec40da23-9e76-41b5-d615-0be6d29dbdd6"
      },
      "execution_count": 25,
      "outputs": [
        {
          "output_type": "stream",
          "name": "stdout",
          "text": [
            "  animal  age  visits priority\n",
            "a    cat  2.5       1      yes\n",
            "b    cat  3.0       3      yes\n",
            "f    cat  2.0       3       no\n",
            "j    dog  3.0       1       no\n"
          ]
        }
      ]
    },
    {
      "cell_type": "markdown",
      "source": [
        "**13.** `f` qatoridagi yoshni `1,5` ga o'zgartiring."
      ],
      "metadata": {
        "id": "vQLVYkEzfJIV"
      }
    },
    {
      "cell_type": "code",
      "source": [
        "df.at['f','age'] = 1.5\n",
        "print(df.loc['f'])"
      ],
      "metadata": {
        "id": "nLGJ2_nGfIwI",
        "colab": {
          "base_uri": "https://localhost:8080/"
        },
        "outputId": "2d43d371-e398-4caf-8595-206d2aef04c8"
      },
      "execution_count": 26,
      "outputs": [
        {
          "output_type": "stream",
          "name": "stdout",
          "text": [
            "animal      cat\n",
            "age         1.5\n",
            "visits        3\n",
            "priority     no\n",
            "Name: f, dtype: object\n"
          ]
        }
      ]
    },
    {
      "cell_type": "markdown",
      "source": [
        "**14.** `df` yordamida `visits` qatorining yig'indisini hisoblang."
      ],
      "metadata": {
        "id": "2hhe5n8Ofhsg"
      }
    },
    {
      "cell_type": "code",
      "source": [
        "print(df['visits'].sum())"
      ],
      "metadata": {
        "id": "kq-v9ntkf0x1",
        "colab": {
          "base_uri": "https://localhost:8080/"
        },
        "outputId": "ce019ed3-9524-4ee9-cc10-c60dacd273e5"
      },
      "execution_count": 27,
      "outputs": [
        {
          "output_type": "stream",
          "name": "stdout",
          "text": [
            "19\n"
          ]
        }
      ]
    },
    {
      "cell_type": "markdown",
      "source": [
        "**15.** Har bir `animal` uchun o'rtacha yoshni `df` da hisoblang."
      ],
      "metadata": {
        "id": "OqIovNDzgnYS"
      }
    },
    {
      "cell_type": "code",
      "source": [
        "print(\"\\nHar bir hayvon turi uchun o'rtacha yosh:\")\n",
        "print(df.groupby('animal')['age'].mean())"
      ],
      "metadata": {
        "id": "013-dSK4gm1l",
        "colab": {
          "base_uri": "https://localhost:8080/"
        },
        "outputId": "afb0d3aa-3f74-4e77-a330-7b36b6827e23"
      },
      "execution_count": 28,
      "outputs": [
        {
          "output_type": "stream",
          "name": "stdout",
          "text": [
            "\n",
            "Har bir hayvon turi uchun o'rtacha yosh:\n",
            "animal\n",
            "cat      2.333333\n",
            "dog      5.000000\n",
            "snake    2.500000\n",
            "Name: age, dtype: float64\n"
          ]
        }
      ]
    },
    {
      "cell_type": "markdown",
      "source": [
        "**16.** `df` yordamida har bir turdagi `animal` sonini hisoblang."
      ],
      "metadata": {
        "id": "z7xyeyHtgtQR"
      }
    },
    {
      "cell_type": "code",
      "source": [
        "print(df['animal'].value_counts())"
      ],
      "metadata": {
        "id": "6n_Ese6bhD8-",
        "colab": {
          "base_uri": "https://localhost:8080/"
        },
        "outputId": "57260191-3996-482b-c92f-4dab45d85c4b"
      },
      "execution_count": 29,
      "outputs": [
        {
          "output_type": "stream",
          "name": "stdout",
          "text": [
            "animal\n",
            "cat      4\n",
            "dog      4\n",
            "snake    2\n",
            "Name: count, dtype: int64\n"
          ]
        }
      ]
    },
    {
      "cell_type": "markdown",
      "source": [
        "**17.** `animal` ustunida, `snake` so'zini `python` so'ziga o'zgartiring."
      ],
      "metadata": {
        "id": "08iUPbLChLs4"
      }
    },
    {
      "cell_type": "code",
      "source": [
        "df['animal'] = df['animal'].replace('snake','python')\n",
        "print(df)"
      ],
      "metadata": {
        "id": "wpB4tx1HhLAD",
        "colab": {
          "base_uri": "https://localhost:8080/"
        },
        "outputId": "b998fc59-5b40-49f9-9d8b-d88cb73f9edf"
      },
      "execution_count": 30,
      "outputs": [
        {
          "output_type": "stream",
          "name": "stdout",
          "text": [
            "   animal  age  visits priority\n",
            "a     cat  2.5       1      yes\n",
            "b     cat  3.0       3      yes\n",
            "c  python  0.5       2       no\n",
            "d     dog  NaN       3      yes\n",
            "e     dog  5.0       2       no\n",
            "f     cat  1.5       3       no\n",
            "g  python  4.5       1       no\n",
            "h     cat  NaN       1      yes\n",
            "i     dog  7.0       2       no\n",
            "j     dog  3.0       1       no\n"
          ]
        }
      ]
    },
    {
      "cell_type": "markdown",
      "source": [
        "## `📌DataFrame: Murakkab`\n",
        "\n",
        "### Bir oz qiyinroq: to'g'ri javob olish uchun ikki yoki undan ortiq usullarni birlashtirish kerak bo'lishi mumkin\n",
        "\n",
        "Oldingi bo'lim DataFrame-ning asosiy, ammo muhim operatsiyalari bo'yicha vazifalarni jamlagan edi. Quyida ma'lumotlarni kesishingiz kerak bo'lgan mashqlar mavjud."
      ],
      "metadata": {
        "id": "KFl6Z8wthsiM"
      }
    },
    {
      "cell_type": "markdown",
      "source": [
        "**18.** Sizda butun sonlardan iborat `A` ustunli DataFrame `df` mavjud. Misol uchun:\n",
        "```python\n",
        "df = pd.DataFrame({'A': [1, 2, 2, 3, 4, 5, 5, 5, 6, 7, 7]})\n",
        "```\n",
        "\n",
        "Yuqoridagi qator bilan bir xil butun sonni o'z ichiga olgan qator yarating.\n",
        "\n",
        "\n",
        "💡Sizda quyidagi qiymatlarni o'z ichiga olgan ustun paydo bo'lishi kerak:\n",
        "\n",
        "```python\n",
        "1, 2, 3, 4, 5, 6, 7\n",
        "```"
      ],
      "metadata": {
        "id": "zzWMfSzqieof"
      }
    },
    {
      "cell_type": "code",
      "source": [
        "df = pd.DataFrame({'A':[1,2,2,3,4,5,5,5,6,7,7]})\n",
        "df = df.drop_duplicates(subset='A')\n",
        "print(df)"
      ],
      "metadata": {
        "id": "tcrSzGB5kVb6",
        "colab": {
          "base_uri": "https://localhost:8080/"
        },
        "outputId": "af9b8138-b78f-4cab-db11-10ac1b1ef47f"
      },
      "execution_count": 31,
      "outputs": [
        {
          "output_type": "stream",
          "name": "stdout",
          "text": [
            "   A\n",
            "0  1\n",
            "1  2\n",
            "3  3\n",
            "4  4\n",
            "5  5\n",
            "8  6\n",
            "9  7\n"
          ]
        }
      ]
    },
    {
      "cell_type": "code",
      "source": [
        "np.unique_values =df['A'].unique()\n",
        "np.unique_values.sort()\n",
        "df_unique =pd.DataFrame({'A': np.unique_values})\n",
        "print(df_unique)"
      ],
      "metadata": {
        "colab": {
          "base_uri": "https://localhost:8080/"
        },
        "id": "CxQ7MK7uRZ0c",
        "outputId": "4aa5c44c-c745-4a05-aae7-fea7bb01d211"
      },
      "execution_count": 33,
      "outputs": [
        {
          "output_type": "stream",
          "name": "stdout",
          "text": [
            "   A\n",
            "0  1\n",
            "1  2\n",
            "2  3\n",
            "3  4\n",
            "4  5\n",
            "5  6\n",
            "6  7\n"
          ]
        }
      ]
    },
    {
      "cell_type": "markdown",
      "source": [
        "**19.** Raqamli qiymatlardan iborat DataFrame berildi\n",
        "\n",
        "```python\n",
        "df = pd.DataFrame(np.random.random(size=(5, 3))) # float qiymatlarining 5x3 o'lchovi\n",
        "```\n",
        "\n",
        "Qatordagi har bir elementdan satrning o'rtacha qiymatini qanday ayirish mumkin?"
      ],
      "metadata": {
        "id": "5PCk01pjj3Qr"
      }
    },
    {
      "cell_type": "code",
      "source": [
        "df = pd.DataFrame(np.random.random(size=(5,3)))\n",
        "df_nat = df.sub(df.mean(axis=1), axis=0)\n",
        "print(df_nat)"
      ],
      "metadata": {
        "id": "s_H3HZe00BxH",
        "colab": {
          "base_uri": "https://localhost:8080/"
        },
        "outputId": "a234a73b-f0a3-497e-a041-6f419301274c"
      },
      "execution_count": 35,
      "outputs": [
        {
          "output_type": "stream",
          "name": "stdout",
          "text": [
            "          0         1         2\n",
            "0 -0.077378  0.253394 -0.176016\n",
            "1 -0.342671  0.465844 -0.123173\n",
            "2 -0.100148 -0.346525  0.446673\n",
            "3  0.126522  0.067417 -0.193939\n",
            "4  0.084355 -0.126252  0.041897\n"
          ]
        }
      ]
    },
    {
      "cell_type": "markdown",
      "source": [
        "**20.** Sizda 10 ta haqiqiy raqamlar ustunidan iborat DataFrame mavjud:\n",
        "\n",
        "``` python\n",
        "df = pd.DataFrame(np.random.random(size=(5, 10)), columns=list('abcdefghij'))\n",
        "```\n",
        "Qaysi sonlar ustunining yig'indisi eng kichik ekanini hisoblang. U ustunning yorlig'ini qaytaring."
      ],
      "metadata": {
        "id": "aH5N75d2kaIS"
      }
    },
    {
      "cell_type": "code",
      "source": [
        "df =pd.DataFrame(np.random.random(size=(5,10)),columns=list('abcdefghij'))\n",
        "columns_sums = df.sum()# Har bir ustun yig'indisi\n",
        "min_sum_column = columns_sums.idxmin()# Eng kichik yig'indiga ega ustun\n",
        "print(min_sum_column)"
      ],
      "metadata": {
        "id": "UBom6RArkwsc",
        "colab": {
          "base_uri": "https://localhost:8080/"
        },
        "outputId": "56bdbfa3-b86b-4896-dce7-906d4d097854"
      },
      "execution_count": 39,
      "outputs": [
        {
          "output_type": "stream",
          "name": "stdout",
          "text": [
            "e\n"
          ]
        }
      ]
    },
    {
      "cell_type": "markdown",
      "source": [
        "**21.** Quyida butun sonlardan iborat DataFrame `df` mavjud. Har bir satrga  5 ta yozuv `NaN` qiymatlari kiritilgan.\n",
        "\n",
        "DataFrame ning har bir qatori uchun uchinchi `NaN` qiymatini o'z ichiga olgan ustunni toping.\n",
        "\n",
        "Ustun yorliqlarini qaytarishingiz kerak: `e, c, d, h, d`"
      ],
      "metadata": {
        "id": "cFy6Z7UPkyYz"
      }
    },
    {
      "cell_type": "code",
      "source": [
        "nan = np.nan\n",
        "data = [[0.04,  nan,  nan, 0.25,  nan, 0.43, 0.71, 0.51,  nan,  nan],\n",
        "        [ nan,  nan,  nan, 0.04, 0.76,  nan,  nan, 0.67, 0.76, 0.16],\n",
        "        [ nan,  nan, 0.5 ,  nan, 0.31, 0.4 ,  nan,  nan, 0.24, 0.01],\n",
        "        [0.49,  nan,  nan, 0.62, 0.73, 0.26, 0.85,  nan,  nan,  nan],\n",
        "        [ nan,  nan, 0.41,  nan, 0.05,  nan, 0.61,  nan, 0.48, 0.68]]\n",
        "\n",
        "columns = list('abcdefghij')\n",
        "\n",
        "df = pd.DataFrame(data,columns=columns)\n",
        "\n",
        "# Javobni bu yerga yozing!\n",
        "def top_uch_nan(row):\n",
        "  return row.index[row.isna().cumsum() == 3][0]\n",
        "result = df.apply(top_uch_nan, axis=1)\n",
        "print(result.tolist())"
      ],
      "metadata": {
        "id": "cIjzxMY0nmZX",
        "colab": {
          "base_uri": "https://localhost:8080/"
        },
        "outputId": "cf6f2777-30c0-4da8-abde-b88714f685db"
      },
      "execution_count": 42,
      "outputs": [
        {
          "output_type": "stream",
          "name": "stdout",
          "text": [
            "['e', 'c', 'd', 'h', 'd']\n"
          ]
        }
      ]
    },
    {
      "cell_type": "markdown",
      "source": [
        "**22.** DataFrame `grps` guruhlari ustuniga va `vals` butun qiymatlari ustuniga ega:\n",
        "\n",
        "```python\n",
        "df = pd.DataFrame({'grps': list('aaabbcaabcccbbc'),\n",
        "                   'vals': [12,345,3,1,45,14,4,52,54,23,235,21,57,3,87]})\n",
        "```\n",
        "Har bir `grps` uchun uchta eng katta qiymatning yig‘indisini toping.\n",
        "\n",
        "💡Javobni quyidagicha yakunlashingiz kerak:\n",
        "```\n",
        "grps\n",
        "a    409\n",
        "b    156\n",
        "c    345\n",
        "```"
      ],
      "metadata": {
        "id": "MNtSYovBn6j9"
      }
    },
    {
      "cell_type": "markdown",
      "source": [
        "     'a   a  a b  b  c a a  b  c  c   c  b  b  c'\n",
        "      12,345,3,1,45,14,4,52,54,23,235,21,57,3,87"
      ],
      "metadata": {
        "id": "T84zR5er3MNq"
      }
    },
    {
      "cell_type": "code",
      "source": [
        "# Javobni bu yerga yozing!\n",
        "df = pd.DataFrame({\n",
        "    'grps':list('aaabbcaabcccbbc'),\n",
        "    'vals': [12,345,3,1,45,14,4,52,54,23,235,21,57,3,87]\n",
        "})\n",
        "result = df.groupby('grps')['vals'].apply(lambda x: x.nlargest(3).sum())\n",
        "print(result)\n"
      ],
      "metadata": {
        "id": "qUQxxMOLoUSj",
        "colab": {
          "base_uri": "https://localhost:8080/"
        },
        "outputId": "81142f98-4c04-4d28-bd32-280d9a6e9004"
      },
      "execution_count": 43,
      "outputs": [
        {
          "output_type": "stream",
          "name": "stdout",
          "text": [
            "grps\n",
            "a    409\n",
            "b    156\n",
            "c    345\n",
            "Name: vals, dtype: int64\n"
          ]
        }
      ]
    },
    {
      "cell_type": "markdown",
      "source": [
        "**23.** Quyida tuzilgan DataFrame `df` ikkita butun son ustuniga ega 'A' va 'B'. \"A\" dagi qiymatlar 1 dan 100 gacha (shu jumladan).\n",
        "\n",
        "“A” dagi har bir 10 ta ketma-ket butun sonlar guruhi uchun (ya’ni `(0, 10]`, `(10, 20]`, ...) 'B' ustunidagi mos qiymatlar yig'indisini hisoblang.\n",
        "\n",
        "Javob quyidagicha bo'lishi kerak:\n",
        "\n",
        "```\n",
        "A\n",
        "(0, 10]      635\n",
        "(10, 20]     360\n",
        "(20, 30]     315\n",
        "(30, 40]     306\n",
        "(40, 50]     750\n",
        "(50, 60]     284\n",
        "(60, 70]     424\n",
        "(70, 80]     526\n",
        "(80, 90]     835\n",
        "(90, 100]    852\n",
        "```"
      ],
      "metadata": {
        "id": "nkgP1SXKpGjU"
      }
    },
    {
      "cell_type": "code",
      "source": [
        "import numpy as np\n",
        "import pandas as pd"
      ],
      "metadata": {
        "id": "USCpqhaFcgmF"
      },
      "execution_count": 72,
      "outputs": []
    },
    {
      "cell_type": "code",
      "source": [
        "df = pd.DataFrame(np.random.RandomState(8765).randint(1, 101, size=(100, 2)), columns = [\"A\", \"B\"])\n",
        "\n",
        "# Javobni bu yerga yozing!\n",
        "df['A_bin'] = pd.cut(df['A'],bins = [0,10,20,30,40,50,60,70,80,90,100])\n",
        "result = df.groupby('A_bin')['B'].sum()\n",
        "print(result)"
      ],
      "metadata": {
        "id": "tHxtASQ4pR81",
        "colab": {
          "base_uri": "https://localhost:8080/"
        },
        "outputId": "7f132f4f-d333-436e-e6bf-3bd28c351a3b"
      },
      "execution_count": 73,
      "outputs": [
        {
          "output_type": "stream",
          "name": "stdout",
          "text": [
            "A_bin\n",
            "(0, 10]      635\n",
            "(10, 20]     360\n",
            "(20, 30]     315\n",
            "(30, 40]     306\n",
            "(40, 50]     750\n",
            "(50, 60]     284\n",
            "(60, 70]     424\n",
            "(70, 80]     526\n",
            "(80, 90]     835\n",
            "(90, 100]    852\n",
            "Name: B, dtype: int64\n"
          ]
        },
        {
          "output_type": "stream",
          "name": "stderr",
          "text": [
            "<ipython-input-73-f62f6247833c>:5: FutureWarning: The default of observed=False is deprecated and will be changed to True in a future version of pandas. Pass observed=False to retain current behavior or observed=True to adopt the future default and silence this warning.\n",
            "  result = df.groupby('A_bin')['B'].sum()\n"
          ]
        }
      ]
    },
    {
      "cell_type": "markdown",
      "source": [
        "**24.** 'X' butun son ustuni bo'lgan DataFrame:\n",
        "```python\n",
        "df = pd.DataFrame({'X': [7, 2, 0, 3, 4, 2, 5, 0, 3, 4]})\n",
        "```\n",
        "\n",
        "Har bir qiymat uchun farqni oldingi nolga qaytaring.\n",
        "\n",
        "Sizda natija quyidagicha bo'lishi kerak:\n",
        "\n",
        "```\n",
        "[1, 2, 0, 1, 2, 3, 4, 0, 1, 2]\n",
        "```\n",
        "\n",
        "Buni yangi `Y` ustuni deb nomlang."
      ],
      "metadata": {
        "id": "MtP9tml0pnS0"
      }
    },
    {
      "cell_type": "code",
      "source": [
        "#javobni bu yerga yozing!\n",
        "df = pd.DataFrame({'X': [7,2,0,3,4,2,5,0,3,4]})\n",
        "last_zero_idx = -1\n",
        "output = []\n",
        "for i, val in enumerate(df['X']):\n",
        "  if val == 0:\n",
        "    last_zero_idx = i\n",
        "    output.append(0)\n",
        "  else:\n",
        "      output.append(i - last_zero_idx)\n",
        "df['Y']=output\n",
        "print(df)"
      ],
      "metadata": {
        "id": "otnbU5Gcd8aI",
        "colab": {
          "base_uri": "https://localhost:8080/"
        },
        "outputId": "2273910e-e3b3-4e1c-df0e-ef683f605e1a"
      },
      "execution_count": 74,
      "outputs": [
        {
          "output_type": "stream",
          "name": "stdout",
          "text": [
            "   X  Y\n",
            "0  7  1\n",
            "1  2  2\n",
            "2  0  0\n",
            "3  3  1\n",
            "4  4  2\n",
            "5  2  3\n",
            "6  5  4\n",
            "7  0  0\n",
            "8  3  1\n",
            "9  4  2\n"
          ]
        }
      ]
    },
    {
      "cell_type": "markdown",
      "source": [
        "##`📌Ma'lumotlarni tozalash`\n",
        "\n",
        "Bu har doim sodir bo'ladi: kimdir sizga noto'g'ri tuzilgan satrlar, ro'yxatlar va yetishmayotgan ma'lumotlarni o'z ichiga olgan ma'lumotlarni beradi. Tahlilni davom ettirish uchun uni qanday tartibga keltirasiz?\n",
        "\n",
        "**25.** Quyidagi jumboqni tasavvur qilishi uchun ushbu misolni DataFrame sifatida oling:\n",
        "\n",
        "```python\n",
        "df = pd.DataFrame({'From_To': ['LoNDon_paris', 'MAdrid_miLAN', 'londON_StockhOlm',\n",
        "                               'Budapest_PaRis', 'Brussels_londOn'],\n",
        "              'FlightNumber': [10045, np.nan, 10065, np.nan, 10085],\n",
        "              'RecentDelays': [[23, 47], [], [24, 43, 87], [13], [67, 32]],\n",
        "                   'Airline': ['KLM(!)', '<Air France> (12)', '(British Airways. )',\n",
        "                               '12. Air France', '\"Swiss Air\"']})\n",
        "```\n",
        "Tartiblaganingizdan so'ng u quyidagi ko'rinishga ega bo'lishi kerak:\n",
        "\n",
        "```\n",
        "            From_To  FlightNumber  RecentDelays              Airline\n",
        "0      LoNDon_paris       10045.0      [23, 47]               KLM(!)\n",
        "1      MAdrid_miLAN           NaN            []    <Air France> (12)\n",
        "2  londON_StockhOlm       10065.0  [24, 43, 87]  (British Airways. )\n",
        "3    Budapest_PaRis           NaN          [13]       12. Air France\n",
        "4   Brussels_londOn       10085.0      [67, 32]          \"Swiss Air\"\n",
        "```\n"
      ],
      "metadata": {
        "id": "OUGK14zuquvK"
      }
    },
    {
      "cell_type": "code",
      "source": [
        "df = pd.DataFrame({'From_To': ['LoNDon_paris', 'MAdrid_miLAN', 'londON_StockhOlm',\n",
        "                               'Budapest_PaRis', 'Brussels_londOn'],\n",
        "              'FlightNumber': [10045, np.nan,10065,np.nan,10085],\n",
        "              'RecentDelays': [[23,47],[], [24,43,87], [13], [67,32]],\n",
        "                    'Airline': ['KLM(!)', '<Air France> (12)', '(British Airways.)',\n",
        "                                '12.Air France', '\"Swiss Air\"']})"
      ],
      "metadata": {
        "id": "_4tV79cjpEzP"
      },
      "execution_count": 75,
      "outputs": []
    },
    {
      "cell_type": "code",
      "source": [
        "print(df)"
      ],
      "metadata": {
        "colab": {
          "base_uri": "https://localhost:8080/"
        },
        "id": "Z8cw9fskq00M",
        "outputId": "d33390a7-481d-4c41-9042-6de1afd2e6a1"
      },
      "execution_count": 76,
      "outputs": [
        {
          "output_type": "stream",
          "name": "stdout",
          "text": [
            "            From_To  FlightNumber  RecentDelays             Airline\n",
            "0      LoNDon_paris       10045.0      [23, 47]              KLM(!)\n",
            "1      MAdrid_miLAN           NaN            []   <Air France> (12)\n",
            "2  londON_StockhOlm       10065.0  [24, 43, 87]  (British Airways.)\n",
            "3    Budapest_PaRis           NaN          [13]       12.Air France\n",
            "4   Brussels_londOn       10085.0      [67, 32]         \"Swiss Air\"\n"
          ]
        }
      ]
    },
    {
      "cell_type": "markdown",
      "source": [
        "**26.** **FlightNumber** ustunidagi ba'zi qiymatlar yo'q. Ular `NaN` ko'rinishida yozilgan. Bu raqamlar har bir qatorda 10 ga ko'payishi kerak, shuning uchun 10055 va 10075 ni qo'yish kerak. Ushbu yetishmayotgan raqamlarni to'ldirish uchun `df` ni o'zgartiring va ustunni butun son ustuniga aylantiring."
      ],
      "metadata": {
        "id": "76jDh3Ggty8y"
      }
    },
    {
      "cell_type": "code",
      "source": [
        "df['FlightNumber']= df['FlightNumber'].interpolate().astype(int)\n",
        "print(df)"
      ],
      "metadata": {
        "id": "jmKDfj71ut9W",
        "colab": {
          "base_uri": "https://localhost:8080/"
        },
        "outputId": "3105a515-ae98-458f-bfda-bc9c6e288757"
      },
      "execution_count": 77,
      "outputs": [
        {
          "output_type": "stream",
          "name": "stdout",
          "text": [
            "            From_To  FlightNumber  RecentDelays             Airline\n",
            "0      LoNDon_paris         10045      [23, 47]              KLM(!)\n",
            "1      MAdrid_miLAN         10055            []   <Air France> (12)\n",
            "2  londON_StockhOlm         10065  [24, 43, 87]  (British Airways.)\n",
            "3    Budapest_PaRis         10075          [13]       12.Air France\n",
            "4   Brussels_londOn         10085      [67, 32]         \"Swiss Air\"\n"
          ]
        }
      ]
    },
    {
      "cell_type": "markdown",
      "source": [
        "**27.** **From\\_To** ustunini ikkita alohida ustun ko'rinishida yozing.                                          \n",
        "\n",
        "To'g'ri qiymatlarga ega `temp` deb nomlangan yangi Temporary DataFrame berish uchun har bir satrni pastki chiziq chegarasiga ajrating.                                                                     Ushbu Temporary DataFrame ustunlarini `From` va `To` deb nomlang."
      ],
      "metadata": {
        "id": "1mJR50jltkDw"
      }
    },
    {
      "cell_type": "code",
      "source": [
        "temp = df['From_To'].str.split('_', expand=True)\n",
        "temp.columns = ['From', 'To']\n",
        "print(temp)"
      ],
      "metadata": {
        "id": "ho-RISv_u5v4",
        "colab": {
          "base_uri": "https://localhost:8080/"
        },
        "outputId": "c3f59b81-1b13-4a0c-9c15-c986f5ad9f71"
      },
      "execution_count": 78,
      "outputs": [
        {
          "output_type": "stream",
          "name": "stdout",
          "text": [
            "       From         To\n",
            "0    LoNDon      paris\n",
            "1    MAdrid      miLAN\n",
            "2    londON  StockhOlm\n",
            "3  Budapest      PaRis\n",
            "4  Brussels     londOn\n"
          ]
        }
      ]
    },
    {
      "cell_type": "markdown",
      "source": [
        "**28.** Temporary DataFrame `temp` da shahar nomlari betartib yozilgan.Satrlarning faqat birinchi harfi katta yozilishi kerak.\n",
        "                                                                         (Masalan, \"londON\" \"London\" bo'lishi kerak.)"
      ],
      "metadata": {
        "id": "unOVLLaV0ZKi"
      }
    },
    {
      "cell_type": "code",
      "source": [
        "temp['From'] = temp['From'].str.capitalize()\n",
        "temp['To'] = temp['To'].str.capitalize()\n",
        "print(temp)"
      ],
      "metadata": {
        "id": "x8NnJTBl0jSG",
        "colab": {
          "base_uri": "https://localhost:8080/"
        },
        "outputId": "69d2342a-d344-42a8-dd31-96c98694bed8"
      },
      "execution_count": 79,
      "outputs": [
        {
          "output_type": "stream",
          "name": "stdout",
          "text": [
            "       From         To\n",
            "0    London      Paris\n",
            "1    Madrid      Milan\n",
            "2    London  Stockholm\n",
            "3  Budapest      Paris\n",
            "4  Brussels     London\n"
          ]
        }
      ]
    },
    {
      "cell_type": "markdown",
      "source": [
        "**29**. `Airline` ustunida aviakompaniya nomlari atrofida qoʻshimcha tinish belgilari va belgilar paydo boʻlganini koʻrishingiz mumkin. Faqat aviakompaniya nomini qoldiring. Masalan, ʻ'(British Airways. )'' `British Airways` ko'rinishida yozilishi kerak."
      ],
      "metadata": {
        "id": "W1Aqi9MAycD2"
      }
    },
    {
      "cell_type": "code",
      "source": [
        "import numpy as np\n",
        "import pandas as pd\n",
        "import re"
      ],
      "metadata": {
        "id": "jPq5G_w0yb0A"
      },
      "execution_count": 80,
      "outputs": []
    },
    {
      "cell_type": "code",
      "source": [
        "df['Airline'] = df['Airline'].str.replace(r'[^a-zA-Z\\s]','', regex=True)# Faqat harflar va bo'shliq qoldiriladi\n",
        "df['Airline'] = df['Airline'].str.replace(r'^\\d+\\.\\s*','',regex = True)#Boshlanishidagiraqam va nuqtani olib tashlash\n",
        "df['Airline'] = df['Airline'].str.strip()#Bo'shliqlarni olib tashlash\n",
        "print(df['Airline'])"
      ],
      "metadata": {
        "colab": {
          "base_uri": "https://localhost:8080/"
        },
        "id": "s-FCsbxht7ov",
        "outputId": "1e0225c7-2a86-4e78-82cd-da30f072abff"
      },
      "execution_count": 62,
      "outputs": [
        {
          "output_type": "stream",
          "name": "stdout",
          "text": [
            "0                KLM\n",
            "1         Air France\n",
            "2    British Airways\n",
            "3         Air France\n",
            "4          Swiss Air\n",
            "Name: Airline, dtype: object\n"
          ]
        }
      ]
    },
    {
      "cell_type": "markdown",
      "source": [
        "**30.** `df` dan **From_To** ustunini o'chiring va Temporary DataFrame `temp` ustunini qo'shing."
      ],
      "metadata": {
        "id": "h6Rg_axE1duO"
      }
    },
    {
      "cell_type": "code",
      "source": [
        "df = df.drop('From_To', axis=1)\n",
        "df = pd.concat([df,temp], axis=1)\n",
        "print(df)"
      ],
      "metadata": {
        "id": "4RfmBvN11ZRc",
        "colab": {
          "base_uri": "https://localhost:8080/"
        },
        "outputId": "671a7449-2e7b-4f74-e5e5-1a2d64d8624f"
      },
      "execution_count": 81,
      "outputs": [
        {
          "output_type": "stream",
          "name": "stdout",
          "text": [
            "   FlightNumber  RecentDelays             Airline      From         To\n",
            "0         10045      [23, 47]              KLM(!)    London      Paris\n",
            "1         10055            []   <Air France> (12)    Madrid      Milan\n",
            "2         10065  [24, 43, 87]  (British Airways.)    London  Stockholm\n",
            "3         10075          [13]       12.Air France  Budapest      Paris\n",
            "4         10085      [67, 32]         \"Swiss Air\"  Brussels     London\n"
          ]
        }
      ]
    },
    {
      "cell_type": "markdown",
      "source": [
        "**31**. `RecentDelays` ustunida qiymatlar DataFrame-ga ro'yxat sifatida kiritilgan. Sizning vazifangiz birinchi qiymatni o'z ustunida, har bir ikkinchi qiymatni o'z ustunida va qolgan qiymatlar ham ustunga mos holda chop etish. Agar N-chi qiymat bo'lmasa, qiymat `NaN` deb nomlanishi kerak.\n",
        "\n",
        "Roʻyxatlar qatorini `delays` nomli DataFrame ichiga kengaytiring, `delay_1`, `delay_2` va qolgan ustunlarni ham nomlarini oʻzgartiring va `df` dagi keraksiz `RecentDelays` ustunini `delays` bilan almashtiring."
      ],
      "metadata": {
        "id": "bib5zzhTy6dQ"
      }
    },
    {
      "cell_type": "markdown",
      "source": [
        "Natija quyidagi ko'rinishda bo'lishi kerak:\n",
        "```\n",
        "   FlightNumber          Airline      From         To  delay_1  delay_2  delay_3\n",
        "0         10045              KLM    London      Paris     23.0     47.0      NaN\n",
        "1         10055       Air France    Madrid      Milan      NaN      NaN      NaN\n",
        "2         10065  British Airways    London  Stockholm     24.0     43.0     87.0\n",
        "3         10075       Air France  Budapest      Paris     13.0      NaN      NaN\n",
        "4         10085        Swiss Air  Brussels     London     67.0     32.0      NaN\n",
        "```"
      ],
      "metadata": {
        "id": "zerG3ZoL2KFV"
      }
    },
    {
      "cell_type": "code",
      "source": [
        "delays = df['RecentDelays'].apply(pd.Series)\n",
        "delays.columns = [f'delay_{i+1}' for i in range(delays.shape[1])]\n",
        "df = df.drop('RecentDelays', axis=1)\n",
        "df = pd.concat([df,delays],axis=1)\n",
        "print(df)"
      ],
      "metadata": {
        "id": "W5dp_3rz2KlZ",
        "colab": {
          "base_uri": "https://localhost:8080/"
        },
        "outputId": "6f84e77c-3992-4158-91d4-aecc4cff042a"
      },
      "execution_count": 82,
      "outputs": [
        {
          "output_type": "stream",
          "name": "stdout",
          "text": [
            "   FlightNumber             Airline      From         To  delay_1  delay_2  \\\n",
            "0         10045              KLM(!)    London      Paris     23.0     47.0   \n",
            "1         10055   <Air France> (12)    Madrid      Milan      NaN      NaN   \n",
            "2         10065  (British Airways.)    London  Stockholm     24.0     43.0   \n",
            "3         10075       12.Air France  Budapest      Paris     13.0      NaN   \n",
            "4         10085         \"Swiss Air\"  Brussels     London     67.0     32.0   \n",
            "\n",
            "   delay_3  \n",
            "0      NaN  \n",
            "1      NaN  \n",
            "2     87.0  \n",
            "3      NaN  \n",
            "4      NaN  \n"
          ]
        }
      ]
    },
    {
      "cell_type": "markdown",
      "source": [
        "##`📌Minesweeper`\n",
        "\n",
        "\n",
        "### Minesweeper tarmog'ida xavfsiz kvadratlar uchun raqamlar yaratamiz!\n",
        "\n",
        "💡 Agar siz Windowsning avvalgi versiyalaridan foydalangan bo'lsangiz, Minesweeper bilan tanishsiz:\n",
        "- https://en.wikipedia.org/wiki/Minesweeper_(video_game)"
      ],
      "metadata": {
        "id": "9ttYwM1C2oJ-"
      }
    },
    {
      "cell_type": "markdown",
      "source": [
        "Agar siz o'yin bilan tanish bo'lmasangiz, kvadratchalar to'plamini tasavvur qiling: bu kvadratlarning ba'zilari mineni yashiradi. Agar siz mineni bossangiz, darhol yo'qotasiz. Agar siz xavfsiz kvadratni bossangiz, darhol qo'shni bo'lgan kvadratchalarda qancha mine borligini ko'rsatadigan raqamni ko'rasiz. O'yinning maqsadi to'rdagi mine bo'lmagan barcha kvadratlarni ochishdir.\n",
        "\n",
        "Ushbu bo'limda biz Minesweeper o'yini uchun kerakli ma'lumotlarni o'z ichiga olgan DataFrame yaratamiz: kvadratlarning koordinatalari, kvadratda mine bormi va qo'shni kvadratlarda topilgan minelar sonini aniqlaymiz!"
      ],
      "metadata": {
        "id": "Z89Uhm534sVG"
      }
    },
    {
      "cell_type": "markdown",
      "source": [
        "**32**. Tasavvur qiling, biz Minesweeper o'yinini 5 dan 4 gacha bo'lgan panjarada o'ynayapmiz, ya'ni.\n",
        "```\n",
        "X = 5\n",
        "Y = 4\n",
        "```\n",
        "Boshlash uchun ikkita ustunli DataFrame `df` yarating, bu tarmoq uchun har bir koordinatani o'z ichiga olgan `'x'` va `'y'`. Ya'ni DataFrame ishga tushishi kerak:\n",
        "```\n",
        "    x y\n",
        "0 0 0\n",
        "1 0 1\n",
        "2 0 2\n",
        "```"
      ],
      "metadata": {
        "id": "JpyOTDSD5AtG"
      }
    },
    {
      "cell_type": "code",
      "source": [
        "X,Y = 5,4\n",
        "df = pd.DataFrame([(x,y) for y in range(Y)for x in range(X)],columns=['x','y'])\n",
        "print(df)\n"
      ],
      "metadata": {
        "id": "bhQRTflC2t4t",
        "colab": {
          "base_uri": "https://localhost:8080/"
        },
        "outputId": "6d0e5320-f1c8-49e4-85ab-c9add688bf49"
      },
      "execution_count": 86,
      "outputs": [
        {
          "output_type": "stream",
          "name": "stdout",
          "text": [
            "    x  y\n",
            "0   0  0\n",
            "1   1  0\n",
            "2   2  0\n",
            "3   3  0\n",
            "4   4  0\n",
            "5   0  1\n",
            "6   1  1\n",
            "7   2  1\n",
            "8   3  1\n",
            "9   4  1\n",
            "10  0  2\n",
            "11  1  2\n",
            "12  2  2\n",
            "13  3  2\n",
            "14  4  2\n",
            "15  0  3\n",
            "16  1  3\n",
            "17  2  3\n",
            "18  3  3\n",
            "19  4  3\n"
          ]
        }
      ]
    },
    {
      "cell_type": "markdown",
      "source": [
        "**33**. Ushbu DataFrame `df` uchun yangi nol (safe) va birliklar (mine) ustunini yarating. Har bir joyda mine sodir bo'lish ehtimoli 0,4 bo'lishi kerak."
      ],
      "metadata": {
        "id": "D1-3t7ue5b-2"
      }
    },
    {
      "cell_type": "code",
      "source": [
        "np.random.seed(0)\n",
        "df['mine']=np.random.choice([0,1], size=len(df), p=[0.6,0.4])\n",
        "def get_adjacent_mine_count(row,df):\n",
        "  x,y = row['x'],row['y']\n",
        "  neighbors = [(x+i,y+i) for i in [-1,0,1] for j in [-1,0,1]if not (i==0 and j==0)]\n",
        "  count = 0\n",
        "  for nx, ny in neighbors:\n",
        "    if ((df['x']==nx)& (df['y']==ny)).any():\n",
        "      count +=df[(df['x']==nx) & (df['y']==ny)]['mine'].values[0]\n",
        "      return count\n",
        "df['adjacent'] = df.apply(lambda row: get_adjacent_mine_count(row,df),axis=1)\n",
        "print(df)"
      ],
      "metadata": {
        "id": "TJeonP5E5n2u",
        "colab": {
          "base_uri": "https://localhost:8080/"
        },
        "outputId": "2edb222b-d661-4bdf-875c-8b14dcb03c82"
      },
      "execution_count": 89,
      "outputs": [
        {
          "output_type": "stream",
          "name": "stdout",
          "text": [
            "    x  y  mine  adjacent\n",
            "0   0  0     0         0\n",
            "1   1  0     1         1\n",
            "2   2  0     1         1\n",
            "3   3  0     0         0\n",
            "4   4  0     0         0\n",
            "5   0  1     1         1\n",
            "6   1  1     0         0\n",
            "7   2  1     1         1\n",
            "8   3  1     1         1\n",
            "9   4  1     0         0\n",
            "10  0  2     1         1\n",
            "11  1  2     0         1\n",
            "12  2  2     0         0\n",
            "13  3  2     1         1\n",
            "14  4  2     0         1\n",
            "15  0  3     0         0\n",
            "16  1  3     0         1\n",
            "17  2  3     1         0\n",
            "18  3  3     1         0\n",
            "19  4  3     1         1\n"
          ]
        }
      ]
    },
    {
      "cell_type": "markdown",
      "source": [
        " **34**. Endi ushbu DataFrame uchun `adjacent` nomli yangi ustun yarating. Ushbu ustunda tarmoqdagi qo'shni kvadratlarda topilgan minelar soni bo'lishi kerak.\n",
        "\n",
        "(Masalan, `(0, 0)` koordinatasi uchun yozuv bo'lgan birinchi qator uchun `(0, 1)`, `(1, 0)` va `(1) koordinatalarida qancha mine borligini hisoblang. , 1)`.)"
      ],
      "metadata": {
        "id": "XId_lWGn5vaI"
      }
    },
    {
      "cell_type": "code",
      "source": [
        "def get_adjacent_mine_count(row,df):\n",
        "  x,y = row['x'],row['x']\n",
        "  neighbors = [(x+i,y+j)for i in[-1,0,1] for j in [-1,0,1] if not (i==0 and j==0)]\n",
        "  count = 0\n",
        "  for nx, ny in neighbors:\n",
        "      if ((df['x']==nx) & (df['y'] == ny)).any():\n",
        "        count += df[(df['x'] == nx) & (df['y']==ny)]['mine'].values[0]\n",
        "  return count\n",
        "df['adjacent'] = df.apply(lambda row:get_adjacent_mine_count(row,df), axis=1)\n",
        "print(df)"
      ],
      "metadata": {
        "id": "N5ANTKJ95vAO",
        "colab": {
          "base_uri": "https://localhost:8080/"
        },
        "outputId": "b4a151b6-4159-4bcf-a6b4-ba747324b4b2"
      },
      "execution_count": 101,
      "outputs": [
        {
          "output_type": "stream",
          "name": "stdout",
          "text": [
            "    x  y  mine  adjacent\n",
            "0   0  0     0         2\n",
            "1   1  0     1         5\n",
            "2   2  0     1         5\n",
            "3   3  0     0         3\n",
            "4   4  0     0         2\n",
            "5   0  1     1         2\n",
            "6   1  1     0         5\n",
            "7   2  1     1         5\n",
            "8   3  1     1         3\n",
            "9   4  1     0         2\n",
            "10  0  2     1         2\n",
            "11  1  2     0         5\n",
            "12  2  2     0         5\n",
            "13  3  2     1         3\n",
            "14  4  2     0         2\n",
            "15  0  3     0         2\n",
            "16  1  3     0         5\n",
            "17  2  3     1         5\n",
            "18  3  3     1         3\n",
            "19  4  3     1         2\n"
          ]
        }
      ]
    },
    {
      "cell_type": "markdown",
      "source": [
        "**35**. Mineni o'z ichiga olgan DataFrame qatorlari uchun `adjacent` ustunidagi qiymatni `NaN` ga o'zgartiring."
      ],
      "metadata": {
        "id": "t0c0y_aE6NZ5"
      }
    },
    {
      "cell_type": "code",
      "source": [
        "df.loc[df['mine'] == 1, 'adjacent'] = np.nan\n",
        "print(df)"
      ],
      "metadata": {
        "id": "fW_V4Ff76aMK",
        "colab": {
          "base_uri": "https://localhost:8080/"
        },
        "outputId": "736f5c6f-6628-4416-f6ef-4f111ae74f77"
      },
      "execution_count": 102,
      "outputs": [
        {
          "output_type": "stream",
          "name": "stdout",
          "text": [
            "    x  y  mine  adjacent\n",
            "0   0  0     0       2.0\n",
            "1   1  0     1       NaN\n",
            "2   2  0     1       NaN\n",
            "3   3  0     0       3.0\n",
            "4   4  0     0       2.0\n",
            "5   0  1     1       NaN\n",
            "6   1  1     0       5.0\n",
            "7   2  1     1       NaN\n",
            "8   3  1     1       NaN\n",
            "9   4  1     0       2.0\n",
            "10  0  2     1       NaN\n",
            "11  1  2     0       5.0\n",
            "12  2  2     0       5.0\n",
            "13  3  2     1       NaN\n",
            "14  4  2     0       2.0\n",
            "15  0  3     0       2.0\n",
            "16  1  3     0       5.0\n",
            "17  2  3     1       NaN\n",
            "18  3  3     1       NaN\n",
            "19  4  3     1       NaN\n"
          ]
        }
      ]
    },
    {
      "cell_type": "markdown",
      "source": [
        "**36**. DataFrame-ni `adjacent` minelar sonining panjarasiga aylantiring: ustunlar `x` koordinatasi, qatorlar `y` koordinatasi."
      ],
      "metadata": {
        "id": "biBYkX_36edb"
      }
    },
    {
      "cell_type": "code",
      "source": [
        "pivot = df.pivot(index = 'y', columns ='x', values='adjacent')\n",
        "print(df)"
      ],
      "metadata": {
        "id": "vmfn_Tra6x24",
        "colab": {
          "base_uri": "https://localhost:8080/"
        },
        "outputId": "0f987a7a-c52c-4034-cec3-5b6deae2fe90"
      },
      "execution_count": 104,
      "outputs": [
        {
          "output_type": "stream",
          "name": "stdout",
          "text": [
            "    x  y  mine  adjacent\n",
            "0   0  0     0       2.0\n",
            "1   1  0     1       NaN\n",
            "2   2  0     1       NaN\n",
            "3   3  0     0       3.0\n",
            "4   4  0     0       2.0\n",
            "5   0  1     1       NaN\n",
            "6   1  1     0       5.0\n",
            "7   2  1     1       NaN\n",
            "8   3  1     1       NaN\n",
            "9   4  1     0       2.0\n",
            "10  0  2     1       NaN\n",
            "11  1  2     0       5.0\n",
            "12  2  2     0       5.0\n",
            "13  3  2     1       NaN\n",
            "14  4  2     0       2.0\n",
            "15  0  3     0       2.0\n",
            "16  1  3     0       5.0\n",
            "17  2  3     1       NaN\n",
            "18  3  3     1       NaN\n",
            "19  4  3     1       NaN\n"
          ]
        }
      ]
    },
    {
      "cell_type": "markdown",
      "source": [
        "##📌BONUS!\n",
        "\n",
        "O'zingiz javob berishni istagan savolni kiriting va unga javob bering!"
      ],
      "metadata": {
        "id": "kc7t7KCw6061"
      }
    },
    {
      "cell_type": "code",
      "source": [],
      "metadata": {
        "id": "LICHEONU60hs"
      },
      "execution_count": null,
      "outputs": []
    }
  ]
}